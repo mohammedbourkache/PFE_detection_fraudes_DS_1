{
 "cells": [
  {
   "cell_type": "markdown",
   "id": "42eaa421",
   "metadata": {},
   "source": [
    "# The wisdom of the crowd"
   ]
  },
  {
   "cell_type": "code",
   "execution_count": 1,
   "id": "38c112e4",
   "metadata": {},
   "outputs": [],
   "source": [
    "import pandas as pd\n",
    "import numpy as np\n",
    "import matplotlib.pyplot as plt\n",
    "import seaborn as sns\n"
   ]
  },
  {
   "cell_type": "code",
   "execution_count": 2,
   "id": "f85a2476",
   "metadata": {},
   "outputs": [],
   "source": [
    "#Dataframe\n",
    "dataset =pd.read_csv('trans_cleaned_df.csv')\n"
   ]
  },
  {
   "cell_type": "code",
   "execution_count": 3,
   "id": "9e3df680",
   "metadata": {},
   "outputs": [],
   "source": [
    "#faire une copie \n",
    "df = dataset.copy()"
   ]
  },
  {
   "cell_type": "code",
   "execution_count": 4,
   "id": "904d793c",
   "metadata": {},
   "outputs": [],
   "source": [
    "from sklearn.model_selection import train_test_split\n",
    "from sklearn.metrics import accuracy_score, precision_score, recall_score, roc_auc_score\n",
    "\n",
    "from sklearn.ensemble import RandomForestClassifier\n",
    "from sklearn.tree import DecisionTreeClassifier\n",
    "from sklearn.neighbors import KNeighborsClassifier\n",
    "from sklearn.linear_model import SGDClassifier\n",
    "\n",
    "from sklearn.ensemble import StackingClassifier\n",
    "from sklearn.ensemble import VotingClassifier\n",
    "from sklearn.ensemble import BaggingClassifier\n",
    "\n",
    "\n",
    "# Features and target\n",
    "x = df.drop('isFraud', axis=1)\n",
    "y = df['isFraud']\n",
    "\n",
    "# Splitting the dataset\n",
    "X_train, X_test, y_train, y_test = train_test_split(x, y, test_size=0.2, random_state=0)\n"
   ]
  },
  {
   "cell_type": "markdown",
   "id": "32741b1d",
   "metadata": {},
   "source": [
    "# voting"
   ]
  },
  {
   "cell_type": "code",
   "execution_count": 5,
   "id": "846c57ca",
   "metadata": {},
   "outputs": [
    {
     "name": "stdout",
     "output_type": "stream",
     "text": [
      "Model: SGDClassifier\n",
      "Accuracy: 0.99\n",
      "Precision: 0.00\n",
      "Recall: 0.00\n",
      "ROC AUC: 0.50\n",
      "==============================\n",
      "Model: DecisionTreeClassifier\n",
      "Accuracy: 0.97\n",
      "Precision: 0.06\n",
      "Recall: 0.07\n",
      "ROC AUC: 0.53\n",
      "==============================\n",
      "Model: KNeighborsClassifier\n",
      "Accuracy: 0.99\n",
      "Precision: 0.07\n",
      "Recall: 0.00\n",
      "ROC AUC: 0.50\n",
      "==============================\n",
      "Model: VotingClassifier\n",
      "Accuracy: 0.99\n",
      "Precision: 0.12\n",
      "Recall: 0.00\n",
      "ROC AUC: 0.50\n",
      "==============================\n"
     ]
    }
   ],
   "source": [
    "# Créer les modèles\n",
    "model_1 = SGDClassifier(random_state=0)\n",
    "model_2 = DecisionTreeClassifier(random_state=0)\n",
    "model_3 = KNeighborsClassifier(n_neighbors=2)\n",
    "\n",
    "model_4 = VotingClassifier([('SGD', model_1),\n",
    "                            ('Tree', model_2),\n",
    "                            ('KNN', model_3)],\n",
    "                          voting='hard')\n",
    "\n",
    "# Liste des modèles\n",
    "models = [model_1, model_2, model_3, model_4]\n",
    "\n",
    "# Entraîner et évaluer chaque modèle\n",
    "for model in models:\n",
    "    model.fit(X_train, y_train)\n",
    "    y_pred = model.predict(X_test)\n",
    "    \n",
    "    accuracy = accuracy_score(y_test, y_pred)\n",
    "    precision = precision_score(y_test, y_pred)\n",
    "    recall = recall_score(y_test, y_pred)\n",
    "    roc_auc = roc_auc_score(y_test, y_pred)\n",
    "    \n",
    "    print(f\"Model: {model.__class__.__name__}\")\n",
    "    print(f\"Accuracy: {accuracy:.2f}\")\n",
    "    print(f\"Precision: {precision:.2f}\")\n",
    "    print(f\"Recall: {recall:.2f}\")\n",
    "    print(f\"ROC AUC: {roc_auc:.2f}\")\n",
    "    print(\"=\" * 30)"
   ]
  },
  {
   "cell_type": "markdown",
   "id": "c7d0c023",
   "metadata": {},
   "source": [
    "# bagging"
   ]
  },
  {
   "cell_type": "code",
   "execution_count": 6,
   "id": "225a7136",
   "metadata": {},
   "outputs": [
    {
     "name": "stdout",
     "output_type": "stream",
     "text": [
      "Bagging Classifier Metrics:\n",
      "Accuracy: 0.9861182272319713\n",
      "Precision: 0.3559322033898305\n",
      "Recall: 0.0122306348281887\n",
      "ROC AUC: 0.5059610903756594\n"
     ]
    }
   ],
   "source": [
    "from sklearn.linear_model import SGDClassifier\n",
    "from sklearn.tree import DecisionTreeClassifier\n",
    "from sklearn.neighbors import KNeighborsClassifier\n",
    "from sklearn.metrics import accuracy_score, precision_score, recall_score, roc_auc_score\n",
    "from sklearn.model_selection import train_test_split\n",
    "import pandas as pd\n",
    "\n",
    "\n",
    "# Instancier les modèles individuels\n",
    "model_1 = SGDClassifier(random_state=0)\n",
    "model_2 = DecisionTreeClassifier(random_state=0)\n",
    "model_3 = KNeighborsClassifier(n_neighbors=2)\n",
    "\n",
    "# Instancier le BaggingClassifier en utilisant les modèles individuels\n",
    "bagging_model = BaggingClassifier(base_estimator=None, n_estimators=10, random_state=0)\n",
    "\n",
    "# Entraîner le BaggingClassifier\n",
    "bagging_model.fit(X_train, y_train)\n",
    "\n",
    "# Faire des prédictions avec le BaggingClassifier\n",
    "y_pred = bagging_model.predict(X_test)\n",
    "\n",
    "# Calculer et afficher les métriques pour le modèle ensembliste\n",
    "print(\"Bagging Classifier Metrics:\")\n",
    "print(\"Accuracy:\", accuracy_score(y_test, y_pred))\n",
    "print(\"Precision:\", precision_score(y_test, y_pred))\n",
    "print(\"Recall:\", recall_score(y_test, y_pred))\n",
    "print(\"ROC AUC:\", roc_auc_score(y_test, y_pred))\n"
   ]
  },
  {
   "cell_type": "markdown",
   "id": "b382655e",
   "metadata": {},
   "source": [
    "# stacking"
   ]
  },
  {
   "cell_type": "code",
   "execution_count": 7,
   "id": "75118474",
   "metadata": {},
   "outputs": [
    {
     "name": "stdout",
     "output_type": "stream",
     "text": [
      "Stacking Classifier Metrics:\n",
      "Accuracy: 0.9730210067887793\n",
      "Precision: 0.014679976512037582\n",
      "Recall: 0.014560279557367502\n",
      "ROC AUC: 0.500469798449896\n"
     ]
    }
   ],
   "source": [
    "# features\n",
    "x = df.drop('isFraud', axis=1)\n",
    "# target\n",
    "y = df['isFraud']\n",
    "\n",
    "# Diviser l'ensemble d'entraînement en ensembles d'entraînement et de test\n",
    "X_train, X_test, y_train, y_test = train_test_split(x, y, test_size=0.2, random_state=0)\n",
    "\n",
    "# Instancier les modèles individuels\n",
    "model_1 = SGDClassifier(random_state=0)\n",
    "model_2 = DecisionTreeClassifier(random_state=0)\n",
    "model_3 = KNeighborsClassifier(n_neighbors=2)\n",
    "\n",
    "# Instancier le modèle de méta-apprentissage\n",
    "meta_model = RandomForestClassifier(random_state=0)\n",
    "\n",
    "# Créer le modèle de stacking en utilisant les modèles individuels et le méta-modèle\n",
    "stacking_model = StackingClassifier(\n",
    "    estimators=[('SGD', model_1), ('Tree', model_2), ('KNN', model_3)],\n",
    "    final_estimator=meta_model,\n",
    "    stack_method='auto'  # Vous pouvez également utiliser 'predict_proba' ou 'decision_function'\n",
    ")\n",
    "\n",
    "# Entraîner le modèle de stacking\n",
    "stacking_model.fit(X_train, y_train)\n",
    "\n",
    "# Faire des prédictions avec le modèle de stacking\n",
    "y_pred = stacking_model.predict(X_test)\n",
    "\n",
    "# Calculer et afficher les métriques pour le modèle de stacking\n",
    "print(\"Stacking Classifier Metrics:\")\n",
    "print(\"Accuracy:\", accuracy_score(y_test, y_pred))\n",
    "print(\"Precision:\", precision_score(y_test, y_pred))\n",
    "print(\"Recall:\", recall_score(y_test, y_pred))\n",
    "print(\"ROC AUC:\", roc_auc_score(y_test, y_pred))\n"
   ]
  },
  {
   "cell_type": "code",
   "execution_count": null,
   "id": "b3ea2668",
   "metadata": {},
   "outputs": [],
   "source": []
  }
 ],
 "metadata": {
  "kernelspec": {
   "display_name": "Python 3 (ipykernel)",
   "language": "python",
   "name": "python3"
  },
  "language_info": {
   "codemirror_mode": {
    "name": "ipython",
    "version": 3
   },
   "file_extension": ".py",
   "mimetype": "text/x-python",
   "name": "python",
   "nbconvert_exporter": "python",
   "pygments_lexer": "ipython3",
   "version": "3.10.9"
  }
 },
 "nbformat": 4,
 "nbformat_minor": 5
}
