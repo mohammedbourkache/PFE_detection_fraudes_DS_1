{
 "cells": [
  {
   "cell_type": "code",
   "execution_count": 1,
   "id": "2ad34567",
   "metadata": {},
   "outputs": [],
   "source": [
    "from sklearn.model_selection import train_test_split, cross_val_score\n",
    "from sklearn.ensemble import RandomForestClassifier\n",
    "from sklearn.tree import DecisionTreeClassifier\n",
    "from sklearn.neighbors import KNeighborsClassifier\n",
    "from sklearn.metrics import accuracy_score, precision_score, recall_score, roc_auc_score\n"
   ]
  },
  {
   "cell_type": "code",
   "execution_count": 2,
   "id": "b4d96793",
   "metadata": {},
   "outputs": [],
   "source": [
    "import pandas as pd\n",
    "import numpy as np\n",
    "import matplotlib.pyplot as plt\n",
    "import seaborn as sns\n"
   ]
  },
  {
   "cell_type": "code",
   "execution_count": 3,
   "id": "1aef9e3c",
   "metadata": {},
   "outputs": [],
   "source": [
    "#Dataframe\n",
    "dataset =pd.read_csv('trans_cleaned_df.csv')\n"
   ]
  },
  {
   "cell_type": "code",
   "execution_count": 4,
   "id": "fa1433c7",
   "metadata": {},
   "outputs": [],
   "source": [
    "#faire une copie \n",
    "df = dataset.copy()"
   ]
  },
  {
   "cell_type": "code",
   "execution_count": 5,
   "id": "ff0b1fcf",
   "metadata": {},
   "outputs": [],
   "source": [
    "# Features and target\n",
    "x = df.drop('isFraud', axis=1)\n",
    "y = df['isFraud']\n",
    "\n",
    "# Splitting the dataset\n",
    "X_train, X_test, y_train, y_test = train_test_split(x, y, test_size=0.2, random_state=0)\n",
    "\n",
    "# Apply class weighting\n",
    "class_weights = 'balanced'\n"
   ]
  },
  {
   "cell_type": "code",
   "execution_count": 6,
   "id": "6f7a8dc7",
   "metadata": {},
   "outputs": [],
   "source": [
    "# Random Forest Classifier\n",
    "rf_model = RandomForestClassifier(class_weight=class_weights)\n",
    "rf_cv_scores = cross_val_score(rf_model, X_train, y_train, cv=5, scoring='accuracy')\n",
    "\n",
    "# Decision Tree Classifier\n",
    "dt_model = DecisionTreeClassifier(class_weight=class_weights)\n",
    "dt_cv_scores = cross_val_score(dt_model, X_train, y_train, cv=5, scoring='accuracy')\n",
    "\n",
    "# K-Nearest Neighbors Classifier\n",
    "knn_model = KNeighborsClassifier()\n",
    "knn_cv_scores = cross_val_score(knn_model, X_train, y_train, cv=5, scoring='accuracy')\n"
   ]
  },
  {
   "cell_type": "code",
   "execution_count": 7,
   "id": "7962b7dc",
   "metadata": {},
   "outputs": [
    {
     "name": "stdout",
     "output_type": "stream",
     "text": [
      "Random Forest Cross-Validation Scores: [0.98574498 0.98570519 0.98573503 0.98574498 0.98580467]\n",
      "Decision Tree Cross-Validation Scores: [0.97405646 0.97374809 0.97394704 0.9736685  0.97349939]\n",
      "K-Nearest Neighbors Cross-Validation Scores: [0.98574498 0.9856853  0.98569524 0.98560571 0.98567535]\n"
     ]
    }
   ],
   "source": [
    "print(\"Random Forest Cross-Validation Scores:\", rf_cv_scores)\n",
    "print(\"Decision Tree Cross-Validation Scores:\", dt_cv_scores)\n",
    "print(\"K-Nearest Neighbors Cross-Validation Scores:\", knn_cv_scores)\n"
   ]
  },
  {
   "cell_type": "code",
   "execution_count": null,
   "id": "6a56b708",
   "metadata": {},
   "outputs": [],
   "source": []
  },
  {
   "cell_type": "code",
   "execution_count": 11,
   "id": "e3aab13c",
   "metadata": {},
   "outputs": [
    {
     "name": "stdout",
     "output_type": "stream",
     "text": [
      "Random Forest Test :\n",
      "Accuracy: 0.9856515303442678\n",
      "Precision: 0.09090909090909091\n",
      "Recall: 0.0005574136008918618\n",
      "ROC AUC: 0.6808397728590878\n",
      "____________________________\n",
      "Decision Tree Test :\n",
      "Accuracy: 0.9734358337710293\n",
      "Precision: 0.05835240274599542\n",
      "Recall: 0.056856187290969896\n",
      "ROC AUC: 0.5217837094822091\n",
      "____________________________\n",
      "K-Nearest Neighbors Test :\n",
      "Accuracy: 0.9855799073676169\n",
      "Precision: 0.0\n",
      "Recall: 0.0\n",
      "ROC AUC: 0.5351081441968466\n"
     ]
    }
   ],
   "source": [
    "# Train the models on the full training set\n",
    "rf_model.fit(X_train, y_train)\n",
    "dt_model.fit(X_train, y_train)\n",
    "knn_model.fit(X_train, y_train)\n",
    "\n",
    "# Make predictions on the test set\n",
    "rf_pred = rf_model.predict(X_test)\n",
    "dt_pred = dt_model.predict(X_test)\n",
    "knn_pred = knn_model.predict(X_test)\n",
    "\n",
    "# Evaluer le modele de random forest\n",
    "rf_accuracy = accuracy_score(y_test, rf_pred)\n",
    "rf_precision = precision_score(y_test, rf_pred)\n",
    "rf_recall = recall_score(y_test, rf_pred)\n",
    "rf_pred_prob = rf_model.predict_proba(X_test)[:, 1]  # Compute predicted probabilities for the positive class\n",
    "rf_roc_auc = roc_auc_score(y_test, rf_pred_prob)\n",
    "\n",
    "print(\"Random Forest Test :\")\n",
    "print(\"Accuracy:\", rf_accuracy)\n",
    "print(\"Precision:\", rf_precision)\n",
    "print(\"Recall:\", rf_recall)\n",
    "print(\"ROC AUC:\", rf_roc_auc)\n",
    "print('____________________________')\n",
    "\n",
    "# Evaluer le modele de decision tree\n",
    "dt_accuracy = accuracy_score(y_test, dt_pred)\n",
    "dt_precision = precision_score(y_test, dt_pred)\n",
    "dt_recall = recall_score(y_test, dt_pred)\n",
    "dt_pred_prob = dt_model.predict_proba(X_test)[:, 1]  # Compute predicted probabilities for the positive class\n",
    "dt_roc_auc = roc_auc_score(y_test, dt_pred_prob)\n",
    "\n",
    "print(\"Decision Tree Test :\")\n",
    "print(\"Accuracy:\", dt_accuracy)\n",
    "print(\"Precision:\", dt_precision)\n",
    "print(\"Recall:\", dt_recall)\n",
    "print(\"ROC AUC:\", dt_roc_auc)\n",
    "print('____________________________')\n",
    "\n",
    "# Evaluer le modele de K-Nearest Neighbors\n",
    "knn_accuracy = accuracy_score(y_test, knn_pred)\n",
    "knn_precision = precision_score(y_test, knn_pred)\n",
    "knn_recall = recall_score(y_test, knn_pred)\n",
    "knn_pred_prob = knn_model.predict_proba(X_test)[:, 1]  # Compute predicted probabilities for the positive class\n",
    "knn_roc_auc = roc_auc_score(y_test, knn_pred_prob)\n",
    "\n",
    "print(\"K-Nearest Neighbors Test :\")\n",
    "print(\"Accuracy:\", knn_accuracy)\n",
    "print(\"Precision:\", knn_precision)\n",
    "print(\"Recall:\", knn_recall)\n",
    "print(\"ROC AUC:\", knn_roc_auc)\n",
    "\n",
    "# Print the test set accuracies\n"
   ]
  },
  {
   "cell_type": "code",
   "execution_count": null,
   "id": "c0e15b89",
   "metadata": {},
   "outputs": [],
   "source": []
  }
 ],
 "metadata": {
  "kernelspec": {
   "display_name": "Python 3 (ipykernel)",
   "language": "python",
   "name": "python3"
  },
  "language_info": {
   "codemirror_mode": {
    "name": "ipython",
    "version": 3
   },
   "file_extension": ".py",
   "mimetype": "text/x-python",
   "name": "python",
   "nbconvert_exporter": "python",
   "pygments_lexer": "ipython3",
   "version": "3.10.9"
  }
 },
 "nbformat": 4,
 "nbformat_minor": 5
}
