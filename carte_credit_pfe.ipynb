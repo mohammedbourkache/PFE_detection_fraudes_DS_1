{
 "cells": [
  {
   "cell_type": "markdown",
   "id": "d5b410a1",
   "metadata": {},
   "source": [
    "## <span style=\"color:green\"> Vision globale  </span>\n",
    "\n",
    "■ Ce Dataset (Fraud) est pour la détection de transactions frauduleuses par carte de crédit .\n",
    "\n",
    "■ La taille de ce Dataset est  471 MO\n",
    "\n",
    "■ Les données de ce dataset sont disponibles au format CSV,  avec 6362620 lignes et 11 colonnes.\n",
    "\n",
    "### <span style=\"color:green\">Selon les informations disponibles sur ce dataset :</span>\n",
    "\n",
    "\n",
    "####  ■   Dictionnaire des données :\n",
    "***************************************************************************************\n",
    "1. step : représente une unité de temps dans le monde réel. Dans ce cas, 1 étape équivaut à 1 heure de temps. Nombre total d'étapes : 744 (simulation sur 30 jours).\n",
    "***************************************************************************************\n",
    "2. type : CASH-IN, CASH-OUT, DEBIT, PAYMENT et TRANSFER.\n",
    "***************************************************************************************\n",
    "3. amount : montant de la transaction en monnaie locale.\n",
    "***************************************************************************************\n",
    "4. nameOrig : client ayant initié la transaction.\n",
    "***************************************************************************************\n",
    "5. oldbalanceOrg : solde initial avant la transaction.\n",
    "***************************************************************************************\n",
    "6. newbalanceOrig : nouveau solde après la transaction.\n",
    "***************************************************************************************\n",
    "7. nameDest : client destinataire de la transaction.\n",
    "***************************************************************************************\n",
    "8. oldbalanceDest : solde initial du destinataire avant la transaction. Notez qu'il n'y a pas d'information pour les clients dont le nom commence par M (commerçants).\n",
    "***************************************************************************************\n",
    "9. newbalanceDest : nouveau solde du destinataire après la transaction. Notez qu'il n'y a pas d'information pour les clients dont le nom commence par M (commerçants).\n",
    "***************************************************************************************\n",
    "10. isFraud : il s'agit des transactions effectuées par des agents frauduleux dans la simulation. Dans ce jeu de données spécifique, le comportement frauduleux des agents vise à réaliser un profit en prenant le contrôle des comptes des clients et en essayant de vider les fonds en les transférant vers un autre compte, puis en retirant les fonds du système.\n",
    "***************************************************************************************\n",
    "11. isFlaggedFraud : le modèle économique vise à contrôler les transferts massifs d'un compte à un autre et signale les tentatives illégales. Une tentative illégale dans ce jeu de données est une tentative de transférer plus de 200 000 lors d'une seule transaction.\n",
    "***************************************************************************************\n",
    "\n",
    "1. C'est un problème de classification binaire visant à prédire si une transaction est frauduleuse.\n",
    "2. Données déséquilibrées avec seulement  8213 de transactions frauduleuses parmi 6354407 transactions.\n",
    "3.  ➜ <span style=\"color:red\"> </span>\n",
    "\n",
    "\n",
    " #### Si vous Veuillez avoir le Dataset  [cliquez ici](https://www.kaggle.com/datasets/chitwanmanchanda/fraudulent-transactions-data)\n",
    " \n",
    " "
   ]
  },
  {
   "cell_type": "code",
   "execution_count": 1,
   "id": "699344ab",
   "metadata": {},
   "outputs": [],
   "source": [
    "# on importe les bibliothéques utiles \n",
    "import os\n",
    "import pandas as pd\n",
    "import numpy as np\n",
    "import matplotlib.pyplot as plt\n",
    "import seaborn as sns"
   ]
  },
  {
   "cell_type": "markdown",
   "id": "e127e813",
   "metadata": {},
   "source": [
    "# 1. La collection de données "
   ]
  },
  {
   "cell_type": "code",
   "execution_count": 2,
   "id": "e8b97e49",
   "metadata": {},
   "outputs": [],
   "source": [
    "#Dataframe\n",
    "data =pd.read_csv('Fraud.csv')\n"
   ]
  },
  {
   "cell_type": "code",
   "execution_count": 3,
   "id": "947e496f",
   "metadata": {},
   "outputs": [
    {
     "data": {
      "text/html": [
       "<div>\n",
       "<style scoped>\n",
       "    .dataframe tbody tr th:only-of-type {\n",
       "        vertical-align: middle;\n",
       "    }\n",
       "\n",
       "    .dataframe tbody tr th {\n",
       "        vertical-align: top;\n",
       "    }\n",
       "\n",
       "    .dataframe thead th {\n",
       "        text-align: right;\n",
       "    }\n",
       "</style>\n",
       "<table border=\"1\" class=\"dataframe\">\n",
       "  <thead>\n",
       "    <tr style=\"text-align: right;\">\n",
       "      <th></th>\n",
       "      <th>step</th>\n",
       "      <th>type</th>\n",
       "      <th>amount</th>\n",
       "      <th>nameOrig</th>\n",
       "      <th>oldbalanceOrg</th>\n",
       "      <th>newbalanceOrig</th>\n",
       "      <th>nameDest</th>\n",
       "      <th>oldbalanceDest</th>\n",
       "      <th>newbalanceDest</th>\n",
       "      <th>isFraud</th>\n",
       "      <th>isFlaggedFraud</th>\n",
       "    </tr>\n",
       "  </thead>\n",
       "  <tbody>\n",
       "    <tr>\n",
       "      <th>0</th>\n",
       "      <td>1</td>\n",
       "      <td>PAYMENT</td>\n",
       "      <td>9839.64</td>\n",
       "      <td>C1231006815</td>\n",
       "      <td>170136.0</td>\n",
       "      <td>160296.36</td>\n",
       "      <td>M1979787155</td>\n",
       "      <td>0.0</td>\n",
       "      <td>0.0</td>\n",
       "      <td>0</td>\n",
       "      <td>0</td>\n",
       "    </tr>\n",
       "    <tr>\n",
       "      <th>1</th>\n",
       "      <td>1</td>\n",
       "      <td>PAYMENT</td>\n",
       "      <td>1864.28</td>\n",
       "      <td>C1666544295</td>\n",
       "      <td>21249.0</td>\n",
       "      <td>19384.72</td>\n",
       "      <td>M2044282225</td>\n",
       "      <td>0.0</td>\n",
       "      <td>0.0</td>\n",
       "      <td>0</td>\n",
       "      <td>0</td>\n",
       "    </tr>\n",
       "    <tr>\n",
       "      <th>2</th>\n",
       "      <td>1</td>\n",
       "      <td>TRANSFER</td>\n",
       "      <td>181.00</td>\n",
       "      <td>C1305486145</td>\n",
       "      <td>181.0</td>\n",
       "      <td>0.00</td>\n",
       "      <td>C553264065</td>\n",
       "      <td>0.0</td>\n",
       "      <td>0.0</td>\n",
       "      <td>1</td>\n",
       "      <td>0</td>\n",
       "    </tr>\n",
       "    <tr>\n",
       "      <th>3</th>\n",
       "      <td>1</td>\n",
       "      <td>CASH_OUT</td>\n",
       "      <td>181.00</td>\n",
       "      <td>C840083671</td>\n",
       "      <td>181.0</td>\n",
       "      <td>0.00</td>\n",
       "      <td>C38997010</td>\n",
       "      <td>21182.0</td>\n",
       "      <td>0.0</td>\n",
       "      <td>1</td>\n",
       "      <td>0</td>\n",
       "    </tr>\n",
       "    <tr>\n",
       "      <th>4</th>\n",
       "      <td>1</td>\n",
       "      <td>PAYMENT</td>\n",
       "      <td>11668.14</td>\n",
       "      <td>C2048537720</td>\n",
       "      <td>41554.0</td>\n",
       "      <td>29885.86</td>\n",
       "      <td>M1230701703</td>\n",
       "      <td>0.0</td>\n",
       "      <td>0.0</td>\n",
       "      <td>0</td>\n",
       "      <td>0</td>\n",
       "    </tr>\n",
       "  </tbody>\n",
       "</table>\n",
       "</div>"
      ],
      "text/plain": [
       "   step      type    amount     nameOrig  oldbalanceOrg  newbalanceOrig  \\\n",
       "0     1   PAYMENT   9839.64  C1231006815       170136.0       160296.36   \n",
       "1     1   PAYMENT   1864.28  C1666544295        21249.0        19384.72   \n",
       "2     1  TRANSFER    181.00  C1305486145          181.0            0.00   \n",
       "3     1  CASH_OUT    181.00   C840083671          181.0            0.00   \n",
       "4     1   PAYMENT  11668.14  C2048537720        41554.0        29885.86   \n",
       "\n",
       "      nameDest  oldbalanceDest  newbalanceDest  isFraud  isFlaggedFraud  \n",
       "0  M1979787155             0.0             0.0        0               0  \n",
       "1  M2044282225             0.0             0.0        0               0  \n",
       "2   C553264065             0.0             0.0        1               0  \n",
       "3    C38997010         21182.0             0.0        1               0  \n",
       "4  M1230701703             0.0             0.0        0               0  "
      ]
     },
     "execution_count": 3,
     "metadata": {},
     "output_type": "execute_result"
    }
   ],
   "source": [
    "\n",
    "data.head(n=5)\n",
    "## dernieres 5 \n",
    "#data.tail()\n",
    "##echatillon aléatoire\n",
    "#data.sample(5)"
   ]
  },
  {
   "cell_type": "markdown",
   "id": "28bc068e",
   "metadata": {},
   "source": [
    "\n",
    "# 2. l'analyse exploratiore de données (EDA) :"
   ]
  },
  {
   "cell_type": "code",
   "execution_count": 4,
   "id": "caae132a",
   "metadata": {},
   "outputs": [
    {
     "name": "stdout",
     "output_type": "stream",
     "text": [
      "(6362620, 11)\n"
     ]
    }
   ],
   "source": [
    "#faire une copie \n",
    "df2 = data.copy()\n",
    "print(df2.shape)"
   ]
  },
  {
   "cell_type": "code",
   "execution_count": 5,
   "id": "50fa1e9f",
   "metadata": {},
   "outputs": [
    {
     "name": "stdout",
     "output_type": "stream",
     "text": [
      "Taille du fichier est : 470.67144680023193 MO \n"
     ]
    }
   ],
   "source": [
    "# Obtenir la taille du fichier \n",
    "taille_en_octets = os.path.getsize('Fraud.csv' )\n",
    "\n",
    "# Convertir en méga-octets (1 MO = 1024 * 1024 octets)\n",
    "taille_fichier_mo = taille_en_octets / (1024 * 1024)\n",
    "\n",
    "print(f'Taille du fichier est : {taille_fichier_mo} MO ')\n",
    "\n"
   ]
  },
  {
   "cell_type": "code",
   "execution_count": 6,
   "id": "d307a7a1",
   "metadata": {},
   "outputs": [
    {
     "name": "stdout",
     "output_type": "stream",
     "text": [
      "la taille de notre dataset est :  69988820\n"
     ]
    }
   ],
   "source": [
    "# nbr total de données =  lignes * colonnes \n",
    "print('la taille de notre dataset est : ', df2.size)"
   ]
  },
  {
   "cell_type": "code",
   "execution_count": 7,
   "id": "224acfbf",
   "metadata": {},
   "outputs": [
    {
     "name": "stdout",
     "output_type": "stream",
     "text": [
      "type de données de chaque colonnes\n",
      "\n",
      " step                int64\n",
      "type               object\n",
      "amount            float64\n",
      "nameOrig           object\n",
      "oldbalanceOrg     float64\n",
      "newbalanceOrig    float64\n",
      "nameDest           object\n",
      "oldbalanceDest    float64\n",
      "newbalanceDest    float64\n",
      "isFraud             int64\n",
      "isFlaggedFraud      int64\n",
      "dtype: object\n",
      "\n",
      "___________________________________\n",
      "\n",
      "nbr de colonnes appartient à chaque type\n",
      "\n",
      " float64    5\n",
      "int64      3\n",
      "object     3\n",
      "Name: count, dtype: int64\n"
     ]
    }
   ],
   "source": [
    "#affichons tout les types des colonnes \n",
    "pd.set_option('display.max_row' ,30)\n",
    "print('type de données de chaque colonnes\\n\\n', df2.dtypes)\n",
    "print('\\n___________________________________\\n')\n",
    "print('nbr de colonnes appartient à chaque type\\n\\n', df2.dtypes.value_counts())\n"
   ]
  },
  {
   "cell_type": "code",
   "execution_count": 8,
   "id": "f2152900",
   "metadata": {},
   "outputs": [],
   "source": [
    "# remarque ,  on doit convertir les colonnes de type \"Object\" en type numérique avant d'entraîner le modèle ."
   ]
  },
  {
   "cell_type": "code",
   "execution_count": 9,
   "id": "88bbb320",
   "metadata": {},
   "outputs": [
    {
     "data": {
      "text/plain": [
       "Text(0.5, 1.0, 'Répartition des types de données')"
      ]
     },
     "execution_count": 9,
     "metadata": {},
     "output_type": "execute_result"
    },
    {
     "data": {
      "image/png": "[encoded data removed]",
      "text/plain": [
       "<Figure size 640x480 with 1 Axes>"
      ]
     },
     "metadata": {},
     "output_type": "display_data"
    }
   ],
   "source": [
    "value_counts = df2.dtypes.value_counts()\n",
    "#graphique en camembert pour la répartition des types de nos données\n",
    "plt.pie(value_counts, labels=value_counts.index, autopct='%1.1f%%', startangle=90)\n",
    "\n",
    "plt.title(\"Répartition des types de données\")"
   ]
  },
  {
   "cell_type": "code",
   "execution_count": 10,
   "id": "64ce53c4",
   "metadata": {},
   "outputs": [
    {
     "data": {
      "text/plain": [
       "step              0.0\n",
       "type              0.0\n",
       "amount            0.0\n",
       "nameOrig          0.0\n",
       "oldbalanceOrg     0.0\n",
       "newbalanceOrig    0.0\n",
       "nameDest          0.0\n",
       "oldbalanceDest    0.0\n",
       "newbalanceDest    0.0\n",
       "isFraud           0.0\n",
       "isFlaggedFraud    0.0\n",
       "dtype: float64"
      ]
     },
     "execution_count": 10,
     "metadata": {},
     "output_type": "execute_result"
    }
   ],
   "source": [
    "#nous verifions s'il existe des valeurs manquantes dans les différentes colonnes :\n",
    "(df2.isna().sum()/df2.shape[0]).sort_values(ascending=True)"
   ]
  },
  {
   "cell_type": "code",
   "execution_count": 11,
   "id": "fa250cf2",
   "metadata": {},
   "outputs": [],
   "source": [
    "# on a aucune valeur manquante (nan)"
   ]
  },
  {
   "cell_type": "code",
   "execution_count": 12,
   "id": "f9eb34a5",
   "metadata": {},
   "outputs": [],
   "source": [
    "# on veut voir la corrélation entre les colonnes\n",
    "#la correlation ( mesure statistique ) sert à musurer la relation entre deux variables "
   ]
  },
  {
   "cell_type": "code",
   "execution_count": 13,
   "id": "d8fed8ad",
   "metadata": {},
   "outputs": [
    {
     "name": "stdout",
     "output_type": "stream",
     "text": [
      "type\n",
      "nameOrig\n",
      "nameDest\n"
     ]
    }
   ],
   "source": [
    "for col in df2.select_dtypes('object') :\n",
    "    print(col)\n"
   ]
  },
  {
   "cell_type": "code",
   "execution_count": 14,
   "id": "58548193",
   "metadata": {},
   "outputs": [
    {
     "data": {
      "text/html": [
       "<div>\n",
       "<style scoped>\n",
       "    .dataframe tbody tr th:only-of-type {\n",
       "        vertical-align: middle;\n",
       "    }\n",
       "\n",
       "    .dataframe tbody tr th {\n",
       "        vertical-align: top;\n",
       "    }\n",
       "\n",
       "    .dataframe thead th {\n",
       "        text-align: right;\n",
       "    }\n",
       "</style>\n",
       "<table border=\"1\" class=\"dataframe\">\n",
       "  <thead>\n",
       "    <tr style=\"text-align: right;\">\n",
       "      <th></th>\n",
       "      <th>step</th>\n",
       "      <th>amount</th>\n",
       "      <th>oldbalanceOrg</th>\n",
       "      <th>newbalanceOrig</th>\n",
       "      <th>oldbalanceDest</th>\n",
       "      <th>newbalanceDest</th>\n",
       "      <th>isFraud</th>\n",
       "      <th>isFlaggedFraud</th>\n",
       "    </tr>\n",
       "  </thead>\n",
       "  <tbody>\n",
       "    <tr>\n",
       "      <th>step</th>\n",
       "      <td>1.000000</td>\n",
       "      <td>0.022373</td>\n",
       "      <td>-0.010058</td>\n",
       "      <td>-0.010299</td>\n",
       "      <td>0.027665</td>\n",
       "      <td>0.025888</td>\n",
       "      <td>0.031578</td>\n",
       "      <td>0.003277</td>\n",
       "    </tr>\n",
       "    <tr>\n",
       "      <th>amount</th>\n",
       "      <td>0.022373</td>\n",
       "      <td>1.000000</td>\n",
       "      <td>-0.002762</td>\n",
       "      <td>-0.007861</td>\n",
       "      <td>0.294137</td>\n",
       "      <td>0.459304</td>\n",
       "      <td>0.076688</td>\n",
       "      <td>0.012295</td>\n",
       "    </tr>\n",
       "    <tr>\n",
       "      <th>oldbalanceOrg</th>\n",
       "      <td>-0.010058</td>\n",
       "      <td>-0.002762</td>\n",
       "      <td>1.000000</td>\n",
       "      <td>0.998803</td>\n",
       "      <td>0.066243</td>\n",
       "      <td>0.042029</td>\n",
       "      <td>0.010154</td>\n",
       "      <td>0.003835</td>\n",
       "    </tr>\n",
       "    <tr>\n",
       "      <th>newbalanceOrig</th>\n",
       "      <td>-0.010299</td>\n",
       "      <td>-0.007861</td>\n",
       "      <td>0.998803</td>\n",
       "      <td>1.000000</td>\n",
       "      <td>0.067812</td>\n",
       "      <td>0.041837</td>\n",
       "      <td>-0.008148</td>\n",
       "      <td>0.003776</td>\n",
       "    </tr>\n",
       "    <tr>\n",
       "      <th>oldbalanceDest</th>\n",
       "      <td>0.027665</td>\n",
       "      <td>0.294137</td>\n",
       "      <td>0.066243</td>\n",
       "      <td>0.067812</td>\n",
       "      <td>1.000000</td>\n",
       "      <td>0.976569</td>\n",
       "      <td>-0.005885</td>\n",
       "      <td>-0.000513</td>\n",
       "    </tr>\n",
       "    <tr>\n",
       "      <th>newbalanceDest</th>\n",
       "      <td>0.025888</td>\n",
       "      <td>0.459304</td>\n",
       "      <td>0.042029</td>\n",
       "      <td>0.041837</td>\n",
       "      <td>0.976569</td>\n",
       "      <td>1.000000</td>\n",
       "      <td>0.000535</td>\n",
       "      <td>-0.000529</td>\n",
       "    </tr>\n",
       "    <tr>\n",
       "      <th>isFraud</th>\n",
       "      <td>0.031578</td>\n",
       "      <td>0.076688</td>\n",
       "      <td>0.010154</td>\n",
       "      <td>-0.008148</td>\n",
       "      <td>-0.005885</td>\n",
       "      <td>0.000535</td>\n",
       "      <td>1.000000</td>\n",
       "      <td>0.044109</td>\n",
       "    </tr>\n",
       "    <tr>\n",
       "      <th>isFlaggedFraud</th>\n",
       "      <td>0.003277</td>\n",
       "      <td>0.012295</td>\n",
       "      <td>0.003835</td>\n",
       "      <td>0.003776</td>\n",
       "      <td>-0.000513</td>\n",
       "      <td>-0.000529</td>\n",
       "      <td>0.044109</td>\n",
       "      <td>1.000000</td>\n",
       "    </tr>\n",
       "  </tbody>\n",
       "</table>\n",
       "</div>"
      ],
      "text/plain": [
       "                    step    amount  oldbalanceOrg  newbalanceOrig  \\\n",
       "step            1.000000  0.022373      -0.010058       -0.010299   \n",
       "amount          0.022373  1.000000      -0.002762       -0.007861   \n",
       "oldbalanceOrg  -0.010058 -0.002762       1.000000        0.998803   \n",
       "newbalanceOrig -0.010299 -0.007861       0.998803        1.000000   \n",
       "oldbalanceDest  0.027665  0.294137       0.066243        0.067812   \n",
       "newbalanceDest  0.025888  0.459304       0.042029        0.041837   \n",
       "isFraud         0.031578  0.076688       0.010154       -0.008148   \n",
       "isFlaggedFraud  0.003277  0.012295       0.003835        0.003776   \n",
       "\n",
       "                oldbalanceDest  newbalanceDest   isFraud  isFlaggedFraud  \n",
       "step                  0.027665        0.025888  0.031578        0.003277  \n",
       "amount                0.294137        0.459304  0.076688        0.012295  \n",
       "oldbalanceOrg         0.066243        0.042029  0.010154        0.003835  \n",
       "newbalanceOrig        0.067812        0.041837 -0.008148        0.003776  \n",
       "oldbalanceDest        1.000000        0.976569 -0.005885       -0.000513  \n",
       "newbalanceDest        0.976569        1.000000  0.000535       -0.000529  \n",
       "isFraud              -0.005885        0.000535  1.000000        0.044109  \n",
       "isFlaggedFraud       -0.000513       -0.000529  0.044109        1.000000  "
      ]
     },
     "execution_count": 14,
     "metadata": {},
     "output_type": "execute_result"
    }
   ],
   "source": [
    "#on selectionne les lignes de type object pour les supprimer (on ne peut pas mesurer les vars de type string )\n",
    "A = df2.select_dtypes('object')\n",
    "co = df2.drop(A, axis=1)\n",
    "co.corr()"
   ]
  },
  {
   "cell_type": "markdown",
   "id": "3b61622a",
   "metadata": {},
   "source": [
    "chaque paire colonnes :\n",
    "\n",
    "                ■ oldbalanceOrg , newbalanceOrig = 0.998803\t\n",
    "                                et\n",
    "                ■ oldbalanceDest , newbalanceDest = 0.976569\n",
    "                \n",
    "               ➜ sont fortement liées (corrélées) , on doit supprimer  l'une d'entre elles de chaque paire de corrélations."
   ]
  },
  {
   "cell_type": "code",
   "execution_count": null,
   "id": "b5c21732",
   "metadata": {},
   "outputs": [],
   "source": []
  },
  {
   "cell_type": "markdown",
   "id": "5339f1bf",
   "metadata": {},
   "source": [
    "### analysons colonne amount :"
   ]
  },
  {
   "cell_type": "code",
   "execution_count": 15,
   "id": "0d09007a",
   "metadata": {},
   "outputs": [
    {
     "data": {
      "text/html": [
       "<div>\n",
       "<style scoped>\n",
       "    .dataframe tbody tr th:only-of-type {\n",
       "        vertical-align: middle;\n",
       "    }\n",
       "\n",
       "    .dataframe tbody tr th {\n",
       "        vertical-align: top;\n",
       "    }\n",
       "\n",
       "    .dataframe thead th {\n",
       "        text-align: right;\n",
       "    }\n",
       "</style>\n",
       "<table border=\"1\" class=\"dataframe\">\n",
       "  <thead>\n",
       "    <tr style=\"text-align: right;\">\n",
       "      <th></th>\n",
       "      <th>step</th>\n",
       "      <th>type</th>\n",
       "      <th>amount</th>\n",
       "      <th>nameOrig</th>\n",
       "      <th>oldbalanceOrg</th>\n",
       "      <th>newbalanceOrig</th>\n",
       "      <th>nameDest</th>\n",
       "      <th>oldbalanceDest</th>\n",
       "      <th>newbalanceDest</th>\n",
       "      <th>isFraud</th>\n",
       "      <th>isFlaggedFraud</th>\n",
       "    </tr>\n",
       "  </thead>\n",
       "  <tbody>\n",
       "    <tr>\n",
       "      <th>2736447</th>\n",
       "      <td>212</td>\n",
       "      <td>CASH_OUT</td>\n",
       "      <td>0.0</td>\n",
       "      <td>C1510987794</td>\n",
       "      <td>0.0</td>\n",
       "      <td>0.0</td>\n",
       "      <td>C1696624817</td>\n",
       "      <td>0.00</td>\n",
       "      <td>0.00</td>\n",
       "      <td>1</td>\n",
       "      <td>0</td>\n",
       "    </tr>\n",
       "    <tr>\n",
       "      <th>3247298</th>\n",
       "      <td>250</td>\n",
       "      <td>CASH_OUT</td>\n",
       "      <td>0.0</td>\n",
       "      <td>C521393327</td>\n",
       "      <td>0.0</td>\n",
       "      <td>0.0</td>\n",
       "      <td>C480398193</td>\n",
       "      <td>0.00</td>\n",
       "      <td>0.00</td>\n",
       "      <td>1</td>\n",
       "      <td>0</td>\n",
       "    </tr>\n",
       "    <tr>\n",
       "      <th>3760289</th>\n",
       "      <td>279</td>\n",
       "      <td>CASH_OUT</td>\n",
       "      <td>0.0</td>\n",
       "      <td>C539112012</td>\n",
       "      <td>0.0</td>\n",
       "      <td>0.0</td>\n",
       "      <td>C1106468520</td>\n",
       "      <td>538547.63</td>\n",
       "      <td>538547.63</td>\n",
       "      <td>1</td>\n",
       "      <td>0</td>\n",
       "    </tr>\n",
       "    <tr>\n",
       "      <th>5563714</th>\n",
       "      <td>387</td>\n",
       "      <td>CASH_OUT</td>\n",
       "      <td>0.0</td>\n",
       "      <td>C1294472700</td>\n",
       "      <td>0.0</td>\n",
       "      <td>0.0</td>\n",
       "      <td>C1325541393</td>\n",
       "      <td>7970766.57</td>\n",
       "      <td>7970766.57</td>\n",
       "      <td>1</td>\n",
       "      <td>0</td>\n",
       "    </tr>\n",
       "    <tr>\n",
       "      <th>5996408</th>\n",
       "      <td>425</td>\n",
       "      <td>CASH_OUT</td>\n",
       "      <td>0.0</td>\n",
       "      <td>C832555372</td>\n",
       "      <td>0.0</td>\n",
       "      <td>0.0</td>\n",
       "      <td>C1462759334</td>\n",
       "      <td>76759.90</td>\n",
       "      <td>76759.90</td>\n",
       "      <td>1</td>\n",
       "      <td>0</td>\n",
       "    </tr>\n",
       "    <tr>\n",
       "      <th>5996410</th>\n",
       "      <td>425</td>\n",
       "      <td>CASH_OUT</td>\n",
       "      <td>0.0</td>\n",
       "      <td>C69493310</td>\n",
       "      <td>0.0</td>\n",
       "      <td>0.0</td>\n",
       "      <td>C719711728</td>\n",
       "      <td>2921531.34</td>\n",
       "      <td>2921531.34</td>\n",
       "      <td>1</td>\n",
       "      <td>0</td>\n",
       "    </tr>\n",
       "    <tr>\n",
       "      <th>6168500</th>\n",
       "      <td>554</td>\n",
       "      <td>CASH_OUT</td>\n",
       "      <td>0.0</td>\n",
       "      <td>C10965156</td>\n",
       "      <td>0.0</td>\n",
       "      <td>0.0</td>\n",
       "      <td>C1493336195</td>\n",
       "      <td>230289.66</td>\n",
       "      <td>230289.66</td>\n",
       "      <td>1</td>\n",
       "      <td>0</td>\n",
       "    </tr>\n",
       "    <tr>\n",
       "      <th>6205440</th>\n",
       "      <td>586</td>\n",
       "      <td>CASH_OUT</td>\n",
       "      <td>0.0</td>\n",
       "      <td>C1303719003</td>\n",
       "      <td>0.0</td>\n",
       "      <td>0.0</td>\n",
       "      <td>C900608348</td>\n",
       "      <td>1328472.86</td>\n",
       "      <td>1328472.86</td>\n",
       "      <td>1</td>\n",
       "      <td>0</td>\n",
       "    </tr>\n",
       "    <tr>\n",
       "      <th>6266414</th>\n",
       "      <td>617</td>\n",
       "      <td>CASH_OUT</td>\n",
       "      <td>0.0</td>\n",
       "      <td>C1971175979</td>\n",
       "      <td>0.0</td>\n",
       "      <td>0.0</td>\n",
       "      <td>C1352345416</td>\n",
       "      <td>0.00</td>\n",
       "      <td>0.00</td>\n",
       "      <td>1</td>\n",
       "      <td>0</td>\n",
       "    </tr>\n",
       "    <tr>\n",
       "      <th>6281483</th>\n",
       "      <td>646</td>\n",
       "      <td>CASH_OUT</td>\n",
       "      <td>0.0</td>\n",
       "      <td>C2060908932</td>\n",
       "      <td>0.0</td>\n",
       "      <td>0.0</td>\n",
       "      <td>C1587892888</td>\n",
       "      <td>0.00</td>\n",
       "      <td>0.00</td>\n",
       "      <td>1</td>\n",
       "      <td>0</td>\n",
       "    </tr>\n",
       "    <tr>\n",
       "      <th>6281485</th>\n",
       "      <td>646</td>\n",
       "      <td>CASH_OUT</td>\n",
       "      <td>0.0</td>\n",
       "      <td>C1997645312</td>\n",
       "      <td>0.0</td>\n",
       "      <td>0.0</td>\n",
       "      <td>C601248796</td>\n",
       "      <td>0.00</td>\n",
       "      <td>0.00</td>\n",
       "      <td>1</td>\n",
       "      <td>0</td>\n",
       "    </tr>\n",
       "    <tr>\n",
       "      <th>6296015</th>\n",
       "      <td>671</td>\n",
       "      <td>CASH_OUT</td>\n",
       "      <td>0.0</td>\n",
       "      <td>C1960007029</td>\n",
       "      <td>0.0</td>\n",
       "      <td>0.0</td>\n",
       "      <td>C459118517</td>\n",
       "      <td>27938.72</td>\n",
       "      <td>27938.72</td>\n",
       "      <td>1</td>\n",
       "      <td>0</td>\n",
       "    </tr>\n",
       "    <tr>\n",
       "      <th>6351226</th>\n",
       "      <td>702</td>\n",
       "      <td>CASH_OUT</td>\n",
       "      <td>0.0</td>\n",
       "      <td>C1461113533</td>\n",
       "      <td>0.0</td>\n",
       "      <td>0.0</td>\n",
       "      <td>C1382150537</td>\n",
       "      <td>107777.02</td>\n",
       "      <td>107777.02</td>\n",
       "      <td>1</td>\n",
       "      <td>0</td>\n",
       "    </tr>\n",
       "    <tr>\n",
       "      <th>6362461</th>\n",
       "      <td>730</td>\n",
       "      <td>CASH_OUT</td>\n",
       "      <td>0.0</td>\n",
       "      <td>C729003789</td>\n",
       "      <td>0.0</td>\n",
       "      <td>0.0</td>\n",
       "      <td>C1388096959</td>\n",
       "      <td>1008609.53</td>\n",
       "      <td>1008609.53</td>\n",
       "      <td>1</td>\n",
       "      <td>0</td>\n",
       "    </tr>\n",
       "    <tr>\n",
       "      <th>6362463</th>\n",
       "      <td>730</td>\n",
       "      <td>CASH_OUT</td>\n",
       "      <td>0.0</td>\n",
       "      <td>C2088151490</td>\n",
       "      <td>0.0</td>\n",
       "      <td>0.0</td>\n",
       "      <td>C1156763710</td>\n",
       "      <td>0.00</td>\n",
       "      <td>0.00</td>\n",
       "      <td>1</td>\n",
       "      <td>0</td>\n",
       "    </tr>\n",
       "    <tr>\n",
       "      <th>6362585</th>\n",
       "      <td>741</td>\n",
       "      <td>CASH_OUT</td>\n",
       "      <td>0.0</td>\n",
       "      <td>C312737633</td>\n",
       "      <td>0.0</td>\n",
       "      <td>0.0</td>\n",
       "      <td>C1400061387</td>\n",
       "      <td>267522.87</td>\n",
       "      <td>267522.87</td>\n",
       "      <td>1</td>\n",
       "      <td>0</td>\n",
       "    </tr>\n",
       "  </tbody>\n",
       "</table>\n",
       "</div>"
      ],
      "text/plain": [
       "         step      type  amount     nameOrig  oldbalanceOrg  newbalanceOrig  \\\n",
       "2736447   212  CASH_OUT     0.0  C1510987794            0.0             0.0   \n",
       "3247298   250  CASH_OUT     0.0   C521393327            0.0             0.0   \n",
       "3760289   279  CASH_OUT     0.0   C539112012            0.0             0.0   \n",
       "5563714   387  CASH_OUT     0.0  C1294472700            0.0             0.0   \n",
       "5996408   425  CASH_OUT     0.0   C832555372            0.0             0.0   \n",
       "5996410   425  CASH_OUT     0.0    C69493310            0.0             0.0   \n",
       "6168500   554  CASH_OUT     0.0    C10965156            0.0             0.0   \n",
       "6205440   586  CASH_OUT     0.0  C1303719003            0.0             0.0   \n",
       "6266414   617  CASH_OUT     0.0  C1971175979            0.0             0.0   \n",
       "6281483   646  CASH_OUT     0.0  C2060908932            0.0             0.0   \n",
       "6281485   646  CASH_OUT     0.0  C1997645312            0.0             0.0   \n",
       "6296015   671  CASH_OUT     0.0  C1960007029            0.0             0.0   \n",
       "6351226   702  CASH_OUT     0.0  C1461113533            0.0             0.0   \n",
       "6362461   730  CASH_OUT     0.0   C729003789            0.0             0.0   \n",
       "6362463   730  CASH_OUT     0.0  C2088151490            0.0             0.0   \n",
       "6362585   741  CASH_OUT     0.0   C312737633            0.0             0.0   \n",
       "\n",
       "            nameDest  oldbalanceDest  newbalanceDest  isFraud  isFlaggedFraud  \n",
       "2736447  C1696624817            0.00            0.00        1               0  \n",
       "3247298   C480398193            0.00            0.00        1               0  \n",
       "3760289  C1106468520       538547.63       538547.63        1               0  \n",
       "5563714  C1325541393      7970766.57      7970766.57        1               0  \n",
       "5996408  C1462759334        76759.90        76759.90        1               0  \n",
       "5996410   C719711728      2921531.34      2921531.34        1               0  \n",
       "6168500  C1493336195       230289.66       230289.66        1               0  \n",
       "6205440   C900608348      1328472.86      1328472.86        1               0  \n",
       "6266414  C1352345416            0.00            0.00        1               0  \n",
       "6281483  C1587892888            0.00            0.00        1               0  \n",
       "6281485   C601248796            0.00            0.00        1               0  \n",
       "6296015   C459118517        27938.72        27938.72        1               0  \n",
       "6351226  C1382150537       107777.02       107777.02        1               0  \n",
       "6362461  C1388096959      1008609.53      1008609.53        1               0  \n",
       "6362463  C1156763710            0.00            0.00        1               0  \n",
       "6362585  C1400061387       267522.87       267522.87        1               0  "
      ]
     },
     "execution_count": 15,
     "metadata": {},
     "output_type": "execute_result"
    }
   ],
   "source": [
    "df2[df2['amount']==0]"
   ]
  },
  {
   "cell_type": "code",
   "execution_count": 16,
   "id": "7c3c3988",
   "metadata": {},
   "outputs": [
    {
     "data": {
      "text/plain": [
       "100.0"
      ]
     },
     "execution_count": 16,
     "metadata": {},
     "output_type": "execute_result"
    }
   ],
   "source": [
    "P = df2[(df2['amount']==0) & (df2['isFraud']==1)].shape[0]/df2[df2['amount']==0].shape[0] * 100\n",
    "P"
   ]
  },
  {
   "cell_type": "code",
   "execution_count": 17,
   "id": "40090a3a",
   "metadata": {},
   "outputs": [],
   "source": [
    "# on remarque que toute les transactions qui ont 'amount' = 0 sont des fraudes \n",
    "# aussi , on voit que le type de transaction est ( CASH_OUT )"
   ]
  },
  {
   "cell_type": "code",
   "execution_count": 18,
   "id": "e7ee0b6e",
   "metadata": {},
   "outputs": [
    {
     "data": {
      "image/png": "[encoded data removed]",
      "text/plain": [
       "<Figure size 1000x600 with 1 Axes>"
      ]
     },
     "metadata": {},
     "output_type": "display_data"
    }
   ],
   "source": [
    "# visualisation de colonne montant\n",
    "fig, ax = plt.subplots(figsize=(10, 6))\n",
    "\n",
    "# Tracé de la courbe\n",
    "ax.plot(df2['amount'], color='b', label='Montant')\n",
    "ax.set_title('Les montants')\n",
    "ax.set_ylabel('quantité de montant')\n",
    "ax.legend()\n",
    "ax.grid(True, linestyle='--', alpha=0.7)\n",
    "plt.show()\n"
   ]
  },
  {
   "cell_type": "code",
   "execution_count": 19,
   "id": "b12a9599",
   "metadata": {},
   "outputs": [],
   "source": [
    "# La plupart des transactions 'amount' sont de petites sommes.\n",
    "# il existe de transactions de grosse somme.\n",
    "# qui implique une probabilité que ces transactions de grosse somme été effectuées par des fraudeurs ."
   ]
  },
  {
   "cell_type": "markdown",
   "id": "25cdba5a",
   "metadata": {},
   "source": [
    "### maintenant , on veut voir le cas de vider le compte en transferant toutes l'argent ('amount'=='oldbalanceOrg')"
   ]
  },
  {
   "cell_type": "code",
   "execution_count": 20,
   "id": "f24ba416",
   "metadata": {},
   "outputs": [
    {
     "data": {
      "text/html": [
       "<div>\n",
       "<style scoped>\n",
       "    .dataframe tbody tr th:only-of-type {\n",
       "        vertical-align: middle;\n",
       "    }\n",
       "\n",
       "    .dataframe tbody tr th {\n",
       "        vertical-align: top;\n",
       "    }\n",
       "\n",
       "    .dataframe thead th {\n",
       "        text-align: right;\n",
       "    }\n",
       "</style>\n",
       "<table border=\"1\" class=\"dataframe\">\n",
       "  <thead>\n",
       "    <tr style=\"text-align: right;\">\n",
       "      <th></th>\n",
       "      <th>step</th>\n",
       "      <th>type</th>\n",
       "      <th>amount</th>\n",
       "      <th>nameOrig</th>\n",
       "      <th>oldbalanceOrg</th>\n",
       "      <th>newbalanceOrig</th>\n",
       "      <th>nameDest</th>\n",
       "      <th>oldbalanceDest</th>\n",
       "      <th>newbalanceDest</th>\n",
       "      <th>isFraud</th>\n",
       "      <th>isFlaggedFraud</th>\n",
       "    </tr>\n",
       "  </thead>\n",
       "  <tbody>\n",
       "    <tr>\n",
       "      <th>2</th>\n",
       "      <td>1</td>\n",
       "      <td>TRANSFER</td>\n",
       "      <td>181.00</td>\n",
       "      <td>C1305486145</td>\n",
       "      <td>181.00</td>\n",
       "      <td>0.0</td>\n",
       "      <td>C553264065</td>\n",
       "      <td>0.00</td>\n",
       "      <td>0.00</td>\n",
       "      <td>1</td>\n",
       "      <td>0</td>\n",
       "    </tr>\n",
       "    <tr>\n",
       "      <th>3</th>\n",
       "      <td>1</td>\n",
       "      <td>CASH_OUT</td>\n",
       "      <td>181.00</td>\n",
       "      <td>C840083671</td>\n",
       "      <td>181.00</td>\n",
       "      <td>0.0</td>\n",
       "      <td>C38997010</td>\n",
       "      <td>21182.00</td>\n",
       "      <td>0.00</td>\n",
       "      <td>1</td>\n",
       "      <td>0</td>\n",
       "    </tr>\n",
       "    <tr>\n",
       "      <th>251</th>\n",
       "      <td>1</td>\n",
       "      <td>TRANSFER</td>\n",
       "      <td>2806.00</td>\n",
       "      <td>C1420196421</td>\n",
       "      <td>2806.00</td>\n",
       "      <td>0.0</td>\n",
       "      <td>C972765878</td>\n",
       "      <td>0.00</td>\n",
       "      <td>0.00</td>\n",
       "      <td>1</td>\n",
       "      <td>0</td>\n",
       "    </tr>\n",
       "    <tr>\n",
       "      <th>252</th>\n",
       "      <td>1</td>\n",
       "      <td>CASH_OUT</td>\n",
       "      <td>2806.00</td>\n",
       "      <td>C2101527076</td>\n",
       "      <td>2806.00</td>\n",
       "      <td>0.0</td>\n",
       "      <td>C1007251739</td>\n",
       "      <td>26202.00</td>\n",
       "      <td>0.00</td>\n",
       "      <td>1</td>\n",
       "      <td>0</td>\n",
       "    </tr>\n",
       "    <tr>\n",
       "      <th>680</th>\n",
       "      <td>1</td>\n",
       "      <td>TRANSFER</td>\n",
       "      <td>20128.00</td>\n",
       "      <td>C137533655</td>\n",
       "      <td>20128.00</td>\n",
       "      <td>0.0</td>\n",
       "      <td>C1848415041</td>\n",
       "      <td>0.00</td>\n",
       "      <td>0.00</td>\n",
       "      <td>1</td>\n",
       "      <td>0</td>\n",
       "    </tr>\n",
       "    <tr>\n",
       "      <th>...</th>\n",
       "      <td>...</td>\n",
       "      <td>...</td>\n",
       "      <td>...</td>\n",
       "      <td>...</td>\n",
       "      <td>...</td>\n",
       "      <td>...</td>\n",
       "      <td>...</td>\n",
       "      <td>...</td>\n",
       "      <td>...</td>\n",
       "      <td>...</td>\n",
       "      <td>...</td>\n",
       "    </tr>\n",
       "    <tr>\n",
       "      <th>6362615</th>\n",
       "      <td>743</td>\n",
       "      <td>CASH_OUT</td>\n",
       "      <td>339682.13</td>\n",
       "      <td>C786484425</td>\n",
       "      <td>339682.13</td>\n",
       "      <td>0.0</td>\n",
       "      <td>C776919290</td>\n",
       "      <td>0.00</td>\n",
       "      <td>339682.13</td>\n",
       "      <td>1</td>\n",
       "      <td>0</td>\n",
       "    </tr>\n",
       "    <tr>\n",
       "      <th>6362616</th>\n",
       "      <td>743</td>\n",
       "      <td>TRANSFER</td>\n",
       "      <td>6311409.28</td>\n",
       "      <td>C1529008245</td>\n",
       "      <td>6311409.28</td>\n",
       "      <td>0.0</td>\n",
       "      <td>C1881841831</td>\n",
       "      <td>0.00</td>\n",
       "      <td>0.00</td>\n",
       "      <td>1</td>\n",
       "      <td>0</td>\n",
       "    </tr>\n",
       "    <tr>\n",
       "      <th>6362617</th>\n",
       "      <td>743</td>\n",
       "      <td>CASH_OUT</td>\n",
       "      <td>6311409.28</td>\n",
       "      <td>C1162922333</td>\n",
       "      <td>6311409.28</td>\n",
       "      <td>0.0</td>\n",
       "      <td>C1365125890</td>\n",
       "      <td>68488.84</td>\n",
       "      <td>6379898.11</td>\n",
       "      <td>1</td>\n",
       "      <td>0</td>\n",
       "    </tr>\n",
       "    <tr>\n",
       "      <th>6362618</th>\n",
       "      <td>743</td>\n",
       "      <td>TRANSFER</td>\n",
       "      <td>850002.52</td>\n",
       "      <td>C1685995037</td>\n",
       "      <td>850002.52</td>\n",
       "      <td>0.0</td>\n",
       "      <td>C2080388513</td>\n",
       "      <td>0.00</td>\n",
       "      <td>0.00</td>\n",
       "      <td>1</td>\n",
       "      <td>0</td>\n",
       "    </tr>\n",
       "    <tr>\n",
       "      <th>6362619</th>\n",
       "      <td>743</td>\n",
       "      <td>CASH_OUT</td>\n",
       "      <td>850002.52</td>\n",
       "      <td>C1280323807</td>\n",
       "      <td>850002.52</td>\n",
       "      <td>0.0</td>\n",
       "      <td>C873221189</td>\n",
       "      <td>6510099.11</td>\n",
       "      <td>7360101.63</td>\n",
       "      <td>1</td>\n",
       "      <td>0</td>\n",
       "    </tr>\n",
       "  </tbody>\n",
       "</table>\n",
       "<p>8034 rows × 11 columns</p>\n",
       "</div>"
      ],
      "text/plain": [
       "         step      type      amount     nameOrig  oldbalanceOrg  \\\n",
       "2           1  TRANSFER      181.00  C1305486145         181.00   \n",
       "3           1  CASH_OUT      181.00   C840083671         181.00   \n",
       "251         1  TRANSFER     2806.00  C1420196421        2806.00   \n",
       "252         1  CASH_OUT     2806.00  C2101527076        2806.00   \n",
       "680         1  TRANSFER    20128.00   C137533655       20128.00   \n",
       "...       ...       ...         ...          ...            ...   \n",
       "6362615   743  CASH_OUT   339682.13   C786484425      339682.13   \n",
       "6362616   743  TRANSFER  6311409.28  C1529008245     6311409.28   \n",
       "6362617   743  CASH_OUT  6311409.28  C1162922333     6311409.28   \n",
       "6362618   743  TRANSFER   850002.52  C1685995037      850002.52   \n",
       "6362619   743  CASH_OUT   850002.52  C1280323807      850002.52   \n",
       "\n",
       "         newbalanceOrig     nameDest  oldbalanceDest  newbalanceDest  isFraud  \\\n",
       "2                   0.0   C553264065            0.00            0.00        1   \n",
       "3                   0.0    C38997010        21182.00            0.00        1   \n",
       "251                 0.0   C972765878            0.00            0.00        1   \n",
       "252                 0.0  C1007251739        26202.00            0.00        1   \n",
       "680                 0.0  C1848415041            0.00            0.00        1   \n",
       "...                 ...          ...             ...             ...      ...   \n",
       "6362615             0.0   C776919290            0.00       339682.13        1   \n",
       "6362616             0.0  C1881841831            0.00            0.00        1   \n",
       "6362617             0.0  C1365125890        68488.84      6379898.11        1   \n",
       "6362618             0.0  C2080388513            0.00            0.00        1   \n",
       "6362619             0.0   C873221189      6510099.11      7360101.63        1   \n",
       "\n",
       "         isFlaggedFraud  \n",
       "2                     0  \n",
       "3                     0  \n",
       "251                   0  \n",
       "252                   0  \n",
       "680                   0  \n",
       "...                 ...  \n",
       "6362615               0  \n",
       "6362616               0  \n",
       "6362617               0  \n",
       "6362618               0  \n",
       "6362619               0  \n",
       "\n",
       "[8034 rows x 11 columns]"
      ]
     },
     "execution_count": 20,
     "metadata": {},
     "output_type": "execute_result"
    }
   ],
   "source": [
    "df2[(df2['amount']==df2['oldbalanceOrg']) ]\n"
   ]
  },
  {
   "cell_type": "code",
   "execution_count": 21,
   "id": "86e2d5ec",
   "metadata": {},
   "outputs": [
    {
     "data": {
      "text/html": [
       "<div>\n",
       "<style scoped>\n",
       "    .dataframe tbody tr th:only-of-type {\n",
       "        vertical-align: middle;\n",
       "    }\n",
       "\n",
       "    .dataframe tbody tr th {\n",
       "        vertical-align: top;\n",
       "    }\n",
       "\n",
       "    .dataframe thead th {\n",
       "        text-align: right;\n",
       "    }\n",
       "</style>\n",
       "<table border=\"1\" class=\"dataframe\">\n",
       "  <thead>\n",
       "    <tr style=\"text-align: right;\">\n",
       "      <th></th>\n",
       "      <th>step</th>\n",
       "      <th>type</th>\n",
       "      <th>amount</th>\n",
       "      <th>nameOrig</th>\n",
       "      <th>oldbalanceOrg</th>\n",
       "      <th>newbalanceOrig</th>\n",
       "      <th>nameDest</th>\n",
       "      <th>oldbalanceDest</th>\n",
       "      <th>newbalanceDest</th>\n",
       "      <th>isFraud</th>\n",
       "      <th>isFlaggedFraud</th>\n",
       "    </tr>\n",
       "  </thead>\n",
       "  <tbody>\n",
       "    <tr>\n",
       "      <th>2</th>\n",
       "      <td>1</td>\n",
       "      <td>TRANSFER</td>\n",
       "      <td>181.00</td>\n",
       "      <td>C1305486145</td>\n",
       "      <td>181.00</td>\n",
       "      <td>0.0</td>\n",
       "      <td>C553264065</td>\n",
       "      <td>0.00</td>\n",
       "      <td>0.00</td>\n",
       "      <td>1</td>\n",
       "      <td>0</td>\n",
       "    </tr>\n",
       "    <tr>\n",
       "      <th>3</th>\n",
       "      <td>1</td>\n",
       "      <td>CASH_OUT</td>\n",
       "      <td>181.00</td>\n",
       "      <td>C840083671</td>\n",
       "      <td>181.00</td>\n",
       "      <td>0.0</td>\n",
       "      <td>C38997010</td>\n",
       "      <td>21182.00</td>\n",
       "      <td>0.00</td>\n",
       "      <td>1</td>\n",
       "      <td>0</td>\n",
       "    </tr>\n",
       "    <tr>\n",
       "      <th>251</th>\n",
       "      <td>1</td>\n",
       "      <td>TRANSFER</td>\n",
       "      <td>2806.00</td>\n",
       "      <td>C1420196421</td>\n",
       "      <td>2806.00</td>\n",
       "      <td>0.0</td>\n",
       "      <td>C972765878</td>\n",
       "      <td>0.00</td>\n",
       "      <td>0.00</td>\n",
       "      <td>1</td>\n",
       "      <td>0</td>\n",
       "    </tr>\n",
       "    <tr>\n",
       "      <th>252</th>\n",
       "      <td>1</td>\n",
       "      <td>CASH_OUT</td>\n",
       "      <td>2806.00</td>\n",
       "      <td>C2101527076</td>\n",
       "      <td>2806.00</td>\n",
       "      <td>0.0</td>\n",
       "      <td>C1007251739</td>\n",
       "      <td>26202.00</td>\n",
       "      <td>0.00</td>\n",
       "      <td>1</td>\n",
       "      <td>0</td>\n",
       "    </tr>\n",
       "    <tr>\n",
       "      <th>680</th>\n",
       "      <td>1</td>\n",
       "      <td>TRANSFER</td>\n",
       "      <td>20128.00</td>\n",
       "      <td>C137533655</td>\n",
       "      <td>20128.00</td>\n",
       "      <td>0.0</td>\n",
       "      <td>C1848415041</td>\n",
       "      <td>0.00</td>\n",
       "      <td>0.00</td>\n",
       "      <td>1</td>\n",
       "      <td>0</td>\n",
       "    </tr>\n",
       "    <tr>\n",
       "      <th>...</th>\n",
       "      <td>...</td>\n",
       "      <td>...</td>\n",
       "      <td>...</td>\n",
       "      <td>...</td>\n",
       "      <td>...</td>\n",
       "      <td>...</td>\n",
       "      <td>...</td>\n",
       "      <td>...</td>\n",
       "      <td>...</td>\n",
       "      <td>...</td>\n",
       "      <td>...</td>\n",
       "    </tr>\n",
       "    <tr>\n",
       "      <th>6362615</th>\n",
       "      <td>743</td>\n",
       "      <td>CASH_OUT</td>\n",
       "      <td>339682.13</td>\n",
       "      <td>C786484425</td>\n",
       "      <td>339682.13</td>\n",
       "      <td>0.0</td>\n",
       "      <td>C776919290</td>\n",
       "      <td>0.00</td>\n",
       "      <td>339682.13</td>\n",
       "      <td>1</td>\n",
       "      <td>0</td>\n",
       "    </tr>\n",
       "    <tr>\n",
       "      <th>6362616</th>\n",
       "      <td>743</td>\n",
       "      <td>TRANSFER</td>\n",
       "      <td>6311409.28</td>\n",
       "      <td>C1529008245</td>\n",
       "      <td>6311409.28</td>\n",
       "      <td>0.0</td>\n",
       "      <td>C1881841831</td>\n",
       "      <td>0.00</td>\n",
       "      <td>0.00</td>\n",
       "      <td>1</td>\n",
       "      <td>0</td>\n",
       "    </tr>\n",
       "    <tr>\n",
       "      <th>6362617</th>\n",
       "      <td>743</td>\n",
       "      <td>CASH_OUT</td>\n",
       "      <td>6311409.28</td>\n",
       "      <td>C1162922333</td>\n",
       "      <td>6311409.28</td>\n",
       "      <td>0.0</td>\n",
       "      <td>C1365125890</td>\n",
       "      <td>68488.84</td>\n",
       "      <td>6379898.11</td>\n",
       "      <td>1</td>\n",
       "      <td>0</td>\n",
       "    </tr>\n",
       "    <tr>\n",
       "      <th>6362618</th>\n",
       "      <td>743</td>\n",
       "      <td>TRANSFER</td>\n",
       "      <td>850002.52</td>\n",
       "      <td>C1685995037</td>\n",
       "      <td>850002.52</td>\n",
       "      <td>0.0</td>\n",
       "      <td>C2080388513</td>\n",
       "      <td>0.00</td>\n",
       "      <td>0.00</td>\n",
       "      <td>1</td>\n",
       "      <td>0</td>\n",
       "    </tr>\n",
       "    <tr>\n",
       "      <th>6362619</th>\n",
       "      <td>743</td>\n",
       "      <td>CASH_OUT</td>\n",
       "      <td>850002.52</td>\n",
       "      <td>C1280323807</td>\n",
       "      <td>850002.52</td>\n",
       "      <td>0.0</td>\n",
       "      <td>C873221189</td>\n",
       "      <td>6510099.11</td>\n",
       "      <td>7360101.63</td>\n",
       "      <td>1</td>\n",
       "      <td>0</td>\n",
       "    </tr>\n",
       "  </tbody>\n",
       "</table>\n",
       "<p>8034 rows × 11 columns</p>\n",
       "</div>"
      ],
      "text/plain": [
       "         step      type      amount     nameOrig  oldbalanceOrg  \\\n",
       "2           1  TRANSFER      181.00  C1305486145         181.00   \n",
       "3           1  CASH_OUT      181.00   C840083671         181.00   \n",
       "251         1  TRANSFER     2806.00  C1420196421        2806.00   \n",
       "252         1  CASH_OUT     2806.00  C2101527076        2806.00   \n",
       "680         1  TRANSFER    20128.00   C137533655       20128.00   \n",
       "...       ...       ...         ...          ...            ...   \n",
       "6362615   743  CASH_OUT   339682.13   C786484425      339682.13   \n",
       "6362616   743  TRANSFER  6311409.28  C1529008245     6311409.28   \n",
       "6362617   743  CASH_OUT  6311409.28  C1162922333     6311409.28   \n",
       "6362618   743  TRANSFER   850002.52  C1685995037      850002.52   \n",
       "6362619   743  CASH_OUT   850002.52  C1280323807      850002.52   \n",
       "\n",
       "         newbalanceOrig     nameDest  oldbalanceDest  newbalanceDest  isFraud  \\\n",
       "2                   0.0   C553264065            0.00            0.00        1   \n",
       "3                   0.0    C38997010        21182.00            0.00        1   \n",
       "251                 0.0   C972765878            0.00            0.00        1   \n",
       "252                 0.0  C1007251739        26202.00            0.00        1   \n",
       "680                 0.0  C1848415041            0.00            0.00        1   \n",
       "...                 ...          ...             ...             ...      ...   \n",
       "6362615             0.0   C776919290            0.00       339682.13        1   \n",
       "6362616             0.0  C1881841831            0.00            0.00        1   \n",
       "6362617             0.0  C1365125890        68488.84      6379898.11        1   \n",
       "6362618             0.0  C2080388513            0.00            0.00        1   \n",
       "6362619             0.0   C873221189      6510099.11      7360101.63        1   \n",
       "\n",
       "         isFlaggedFraud  \n",
       "2                     0  \n",
       "3                     0  \n",
       "251                   0  \n",
       "252                   0  \n",
       "680                   0  \n",
       "...                 ...  \n",
       "6362615               0  \n",
       "6362616               0  \n",
       "6362617               0  \n",
       "6362618               0  \n",
       "6362619               0  \n",
       "\n",
       "[8034 rows x 11 columns]"
      ]
     },
     "execution_count": 21,
     "metadata": {},
     "output_type": "execute_result"
    }
   ],
   "source": [
    "# on verifie si toutes ces transactions sont des fraudes \n",
    "df2[(df2['amount']==df2['oldbalanceOrg']) & (df2['isFraud']==1) ]\n"
   ]
  },
  {
   "cell_type": "code",
   "execution_count": 22,
   "id": "5ba0c4eb",
   "metadata": {},
   "outputs": [],
   "source": [
    "# donc pour toute 'amount'=='oldbalanceOrg' , c'est un fraude \n",
    "# qui signifie que le  fraudeurs ont vider les comptes en transferant toutes l'argent ."
   ]
  },
  {
   "cell_type": "markdown",
   "id": "5a3c6f00",
   "metadata": {},
   "source": [
    "### analysons la colonne isFraud"
   ]
  },
  {
   "cell_type": "code",
   "execution_count": 23,
   "id": "74f48ee0",
   "metadata": {},
   "outputs": [
    {
     "data": {
      "text/plain": [
       "isFraud\n",
       "0    6354407\n",
       "1       8213\n",
       "Name: count, dtype: int64"
      ]
     },
     "execution_count": 23,
     "metadata": {},
     "output_type": "execute_result"
    }
   ],
   "source": [
    "df2.isFraud.value_counts()\n",
    "# normalize= True"
   ]
  },
  {
   "cell_type": "code",
   "execution_count": 24,
   "id": "d7444094",
   "metadata": {},
   "outputs": [
    {
     "data": {
      "text/plain": [
       "Text(0.5, 1.0, 'Répartition des fraudes')"
      ]
     },
     "execution_count": 24,
     "metadata": {},
     "output_type": "execute_result"
    },
    {
     "data": {
      "image/png": "[encoded data removed]",
      "text/plain": [
       "<Figure size 640x480 with 1 Axes>"
      ]
     },
     "metadata": {},
     "output_type": "display_data"
    }
   ],
   "source": [
    "val = df2['isFraud'].value_counts()\n",
    "#graphique en camembert \n",
    "plt.pie(val, labels=val.index, autopct='%1.1f%%', startangle=90)\n",
    "\n",
    "plt.title(\"Répartition des fraudes\")"
   ]
  },
  {
   "cell_type": "code",
   "execution_count": 25,
   "id": "0740cff7",
   "metadata": {},
   "outputs": [],
   "source": [
    "# l'ensemble de données est  largement  déséquilibrées\n",
    "# dans ce cas il va impacter notre modéle d'entrainnement , il faut le traiter ."
   ]
  },
  {
   "cell_type": "code",
   "execution_count": 26,
   "id": "979cbef7",
   "metadata": {},
   "outputs": [
    {
     "data": {
      "image/png": "[encoded data removed]",
      "text/plain": [
       "<Figure size 640x480 with 1 Axes>"
      ]
     },
     "metadata": {},
     "output_type": "display_data"
    }
   ],
   "source": [
    "# step et isFraud\n",
    "sns.histplot(x='step', data=df2,hue='isFraud');\n",
    "plt.ylabel('Nombre de transactions')\n",
    "plt.show()"
   ]
  },
  {
   "cell_type": "code",
   "execution_count": 27,
   "id": "5e56127b",
   "metadata": {},
   "outputs": [],
   "source": [
    "# Il est difficile d'identifier la durée des transactions frauduleuses, \n",
    "# mais nous avons remarqué que la plupart des transactions sont en dessous de  400 heures."
   ]
  },
  {
   "cell_type": "markdown",
   "id": "3d1db796",
   "metadata": {},
   "source": [
    "### Analysons la colonne 'isFlaggedFraud'"
   ]
  },
  {
   "cell_type": "code",
   "execution_count": 28,
   "id": "b1757db4",
   "metadata": {},
   "outputs": [
    {
     "data": {
      "text/html": [
       "<div>\n",
       "<style scoped>\n",
       "    .dataframe tbody tr th:only-of-type {\n",
       "        vertical-align: middle;\n",
       "    }\n",
       "\n",
       "    .dataframe tbody tr th {\n",
       "        vertical-align: top;\n",
       "    }\n",
       "\n",
       "    .dataframe thead th {\n",
       "        text-align: right;\n",
       "    }\n",
       "</style>\n",
       "<table border=\"1\" class=\"dataframe\">\n",
       "  <thead>\n",
       "    <tr style=\"text-align: right;\">\n",
       "      <th></th>\n",
       "      <th>step</th>\n",
       "      <th>type</th>\n",
       "      <th>amount</th>\n",
       "      <th>nameOrig</th>\n",
       "      <th>oldbalanceOrg</th>\n",
       "      <th>newbalanceOrig</th>\n",
       "      <th>nameDest</th>\n",
       "      <th>oldbalanceDest</th>\n",
       "      <th>newbalanceDest</th>\n",
       "      <th>isFraud</th>\n",
       "      <th>isFlaggedFraud</th>\n",
       "    </tr>\n",
       "  </thead>\n",
       "  <tbody>\n",
       "    <tr>\n",
       "      <th>2736446</th>\n",
       "      <td>212</td>\n",
       "      <td>TRANSFER</td>\n",
       "      <td>4953893.08</td>\n",
       "      <td>C728984460</td>\n",
       "      <td>4953893.08</td>\n",
       "      <td>4953893.08</td>\n",
       "      <td>C639921569</td>\n",
       "      <td>0.0</td>\n",
       "      <td>0.0</td>\n",
       "      <td>1</td>\n",
       "      <td>1</td>\n",
       "    </tr>\n",
       "    <tr>\n",
       "      <th>3247297</th>\n",
       "      <td>250</td>\n",
       "      <td>TRANSFER</td>\n",
       "      <td>1343002.08</td>\n",
       "      <td>C1100582606</td>\n",
       "      <td>1343002.08</td>\n",
       "      <td>1343002.08</td>\n",
       "      <td>C1147517658</td>\n",
       "      <td>0.0</td>\n",
       "      <td>0.0</td>\n",
       "      <td>1</td>\n",
       "      <td>1</td>\n",
       "    </tr>\n",
       "    <tr>\n",
       "      <th>3760288</th>\n",
       "      <td>279</td>\n",
       "      <td>TRANSFER</td>\n",
       "      <td>536624.41</td>\n",
       "      <td>C1035541766</td>\n",
       "      <td>536624.41</td>\n",
       "      <td>536624.41</td>\n",
       "      <td>C1100697970</td>\n",
       "      <td>0.0</td>\n",
       "      <td>0.0</td>\n",
       "      <td>1</td>\n",
       "      <td>1</td>\n",
       "    </tr>\n",
       "    <tr>\n",
       "      <th>5563713</th>\n",
       "      <td>387</td>\n",
       "      <td>TRANSFER</td>\n",
       "      <td>4892193.09</td>\n",
       "      <td>C908544136</td>\n",
       "      <td>4892193.09</td>\n",
       "      <td>4892193.09</td>\n",
       "      <td>C891140444</td>\n",
       "      <td>0.0</td>\n",
       "      <td>0.0</td>\n",
       "      <td>1</td>\n",
       "      <td>1</td>\n",
       "    </tr>\n",
       "    <tr>\n",
       "      <th>5996407</th>\n",
       "      <td>425</td>\n",
       "      <td>TRANSFER</td>\n",
       "      <td>10000000.00</td>\n",
       "      <td>C689608084</td>\n",
       "      <td>19585040.37</td>\n",
       "      <td>19585040.37</td>\n",
       "      <td>C1392803603</td>\n",
       "      <td>0.0</td>\n",
       "      <td>0.0</td>\n",
       "      <td>1</td>\n",
       "      <td>1</td>\n",
       "    </tr>\n",
       "    <tr>\n",
       "      <th>5996409</th>\n",
       "      <td>425</td>\n",
       "      <td>TRANSFER</td>\n",
       "      <td>9585040.37</td>\n",
       "      <td>C452586515</td>\n",
       "      <td>19585040.37</td>\n",
       "      <td>19585040.37</td>\n",
       "      <td>C1109166882</td>\n",
       "      <td>0.0</td>\n",
       "      <td>0.0</td>\n",
       "      <td>1</td>\n",
       "      <td>1</td>\n",
       "    </tr>\n",
       "    <tr>\n",
       "      <th>6168499</th>\n",
       "      <td>554</td>\n",
       "      <td>TRANSFER</td>\n",
       "      <td>3576297.10</td>\n",
       "      <td>C193696150</td>\n",
       "      <td>3576297.10</td>\n",
       "      <td>3576297.10</td>\n",
       "      <td>C484597480</td>\n",
       "      <td>0.0</td>\n",
       "      <td>0.0</td>\n",
       "      <td>1</td>\n",
       "      <td>1</td>\n",
       "    </tr>\n",
       "    <tr>\n",
       "      <th>6205439</th>\n",
       "      <td>586</td>\n",
       "      <td>TRANSFER</td>\n",
       "      <td>353874.22</td>\n",
       "      <td>C1684585475</td>\n",
       "      <td>353874.22</td>\n",
       "      <td>353874.22</td>\n",
       "      <td>C1770418982</td>\n",
       "      <td>0.0</td>\n",
       "      <td>0.0</td>\n",
       "      <td>1</td>\n",
       "      <td>1</td>\n",
       "    </tr>\n",
       "    <tr>\n",
       "      <th>6266413</th>\n",
       "      <td>617</td>\n",
       "      <td>TRANSFER</td>\n",
       "      <td>2542664.27</td>\n",
       "      <td>C786455622</td>\n",
       "      <td>2542664.27</td>\n",
       "      <td>2542664.27</td>\n",
       "      <td>C661958277</td>\n",
       "      <td>0.0</td>\n",
       "      <td>0.0</td>\n",
       "      <td>1</td>\n",
       "      <td>1</td>\n",
       "    </tr>\n",
       "    <tr>\n",
       "      <th>6281482</th>\n",
       "      <td>646</td>\n",
       "      <td>TRANSFER</td>\n",
       "      <td>10000000.00</td>\n",
       "      <td>C19004745</td>\n",
       "      <td>10399045.08</td>\n",
       "      <td>10399045.08</td>\n",
       "      <td>C1806199534</td>\n",
       "      <td>0.0</td>\n",
       "      <td>0.0</td>\n",
       "      <td>1</td>\n",
       "      <td>1</td>\n",
       "    </tr>\n",
       "    <tr>\n",
       "      <th>6281484</th>\n",
       "      <td>646</td>\n",
       "      <td>TRANSFER</td>\n",
       "      <td>399045.08</td>\n",
       "      <td>C724693370</td>\n",
       "      <td>10399045.08</td>\n",
       "      <td>10399045.08</td>\n",
       "      <td>C1909486199</td>\n",
       "      <td>0.0</td>\n",
       "      <td>0.0</td>\n",
       "      <td>1</td>\n",
       "      <td>1</td>\n",
       "    </tr>\n",
       "    <tr>\n",
       "      <th>6296014</th>\n",
       "      <td>671</td>\n",
       "      <td>TRANSFER</td>\n",
       "      <td>3441041.46</td>\n",
       "      <td>C917414431</td>\n",
       "      <td>3441041.46</td>\n",
       "      <td>3441041.46</td>\n",
       "      <td>C1082139865</td>\n",
       "      <td>0.0</td>\n",
       "      <td>0.0</td>\n",
       "      <td>1</td>\n",
       "      <td>1</td>\n",
       "    </tr>\n",
       "    <tr>\n",
       "      <th>6351225</th>\n",
       "      <td>702</td>\n",
       "      <td>TRANSFER</td>\n",
       "      <td>3171085.59</td>\n",
       "      <td>C1892216157</td>\n",
       "      <td>3171085.59</td>\n",
       "      <td>3171085.59</td>\n",
       "      <td>C1308068787</td>\n",
       "      <td>0.0</td>\n",
       "      <td>0.0</td>\n",
       "      <td>1</td>\n",
       "      <td>1</td>\n",
       "    </tr>\n",
       "    <tr>\n",
       "      <th>6362460</th>\n",
       "      <td>730</td>\n",
       "      <td>TRANSFER</td>\n",
       "      <td>10000000.00</td>\n",
       "      <td>C2140038573</td>\n",
       "      <td>17316255.05</td>\n",
       "      <td>17316255.05</td>\n",
       "      <td>C1395467927</td>\n",
       "      <td>0.0</td>\n",
       "      <td>0.0</td>\n",
       "      <td>1</td>\n",
       "      <td>1</td>\n",
       "    </tr>\n",
       "    <tr>\n",
       "      <th>6362462</th>\n",
       "      <td>730</td>\n",
       "      <td>TRANSFER</td>\n",
       "      <td>7316255.05</td>\n",
       "      <td>C1869569059</td>\n",
       "      <td>17316255.05</td>\n",
       "      <td>17316255.05</td>\n",
       "      <td>C1861208726</td>\n",
       "      <td>0.0</td>\n",
       "      <td>0.0</td>\n",
       "      <td>1</td>\n",
       "      <td>1</td>\n",
       "    </tr>\n",
       "    <tr>\n",
       "      <th>6362584</th>\n",
       "      <td>741</td>\n",
       "      <td>TRANSFER</td>\n",
       "      <td>5674547.89</td>\n",
       "      <td>C992223106</td>\n",
       "      <td>5674547.89</td>\n",
       "      <td>5674547.89</td>\n",
       "      <td>C1366804249</td>\n",
       "      <td>0.0</td>\n",
       "      <td>0.0</td>\n",
       "      <td>1</td>\n",
       "      <td>1</td>\n",
       "    </tr>\n",
       "  </tbody>\n",
       "</table>\n",
       "</div>"
      ],
      "text/plain": [
       "         step      type       amount     nameOrig  oldbalanceOrg  \\\n",
       "2736446   212  TRANSFER   4953893.08   C728984460     4953893.08   \n",
       "3247297   250  TRANSFER   1343002.08  C1100582606     1343002.08   \n",
       "3760288   279  TRANSFER    536624.41  C1035541766      536624.41   \n",
       "5563713   387  TRANSFER   4892193.09   C908544136     4892193.09   \n",
       "5996407   425  TRANSFER  10000000.00   C689608084    19585040.37   \n",
       "5996409   425  TRANSFER   9585040.37   C452586515    19585040.37   \n",
       "6168499   554  TRANSFER   3576297.10   C193696150     3576297.10   \n",
       "6205439   586  TRANSFER    353874.22  C1684585475      353874.22   \n",
       "6266413   617  TRANSFER   2542664.27   C786455622     2542664.27   \n",
       "6281482   646  TRANSFER  10000000.00    C19004745    10399045.08   \n",
       "6281484   646  TRANSFER    399045.08   C724693370    10399045.08   \n",
       "6296014   671  TRANSFER   3441041.46   C917414431     3441041.46   \n",
       "6351225   702  TRANSFER   3171085.59  C1892216157     3171085.59   \n",
       "6362460   730  TRANSFER  10000000.00  C2140038573    17316255.05   \n",
       "6362462   730  TRANSFER   7316255.05  C1869569059    17316255.05   \n",
       "6362584   741  TRANSFER   5674547.89   C992223106     5674547.89   \n",
       "\n",
       "         newbalanceOrig     nameDest  oldbalanceDest  newbalanceDest  isFraud  \\\n",
       "2736446      4953893.08   C639921569             0.0             0.0        1   \n",
       "3247297      1343002.08  C1147517658             0.0             0.0        1   \n",
       "3760288       536624.41  C1100697970             0.0             0.0        1   \n",
       "5563713      4892193.09   C891140444             0.0             0.0        1   \n",
       "5996407     19585040.37  C1392803603             0.0             0.0        1   \n",
       "5996409     19585040.37  C1109166882             0.0             0.0        1   \n",
       "6168499      3576297.10   C484597480             0.0             0.0        1   \n",
       "6205439       353874.22  C1770418982             0.0             0.0        1   \n",
       "6266413      2542664.27   C661958277             0.0             0.0        1   \n",
       "6281482     10399045.08  C1806199534             0.0             0.0        1   \n",
       "6281484     10399045.08  C1909486199             0.0             0.0        1   \n",
       "6296014      3441041.46  C1082139865             0.0             0.0        1   \n",
       "6351225      3171085.59  C1308068787             0.0             0.0        1   \n",
       "6362460     17316255.05  C1395467927             0.0             0.0        1   \n",
       "6362462     17316255.05  C1861208726             0.0             0.0        1   \n",
       "6362584      5674547.89  C1366804249             0.0             0.0        1   \n",
       "\n",
       "         isFlaggedFraud  \n",
       "2736446               1  \n",
       "3247297               1  \n",
       "3760288               1  \n",
       "5563713               1  \n",
       "5996407               1  \n",
       "5996409               1  \n",
       "6168499               1  \n",
       "6205439               1  \n",
       "6266413               1  \n",
       "6281482               1  \n",
       "6281484               1  \n",
       "6296014               1  \n",
       "6351225               1  \n",
       "6362460               1  \n",
       "6362462               1  \n",
       "6362584               1  "
      ]
     },
     "execution_count": 28,
     "metadata": {},
     "output_type": "execute_result"
    }
   ],
   "source": [
    "df2[df2['isFlaggedFraud']==1]\n"
   ]
  },
  {
   "cell_type": "code",
   "execution_count": 29,
   "id": "0e0ac170",
   "metadata": {},
   "outputs": [],
   "source": [
    "# Toutes les transactions qui sont signalées comme fraudes sont vraiment des fraudes."
   ]
  },
  {
   "cell_type": "markdown",
   "id": "ad68f214",
   "metadata": {},
   "source": [
    "### Analysons la colonne 'type' "
   ]
  },
  {
   "cell_type": "code",
   "execution_count": 30,
   "id": "595c1da0",
   "metadata": {},
   "outputs": [
    {
     "data": {
      "text/plain": [
       "type\n",
       "CASH_OUT    2237500\n",
       "PAYMENT     2151495\n",
       "CASH_IN     1399284\n",
       "TRANSFER     532909\n",
       "DEBIT         41432\n",
       "Name: count, dtype: int64"
      ]
     },
     "execution_count": 30,
     "metadata": {},
     "output_type": "execute_result"
    }
   ],
   "source": [
    "df2['type'].value_counts()"
   ]
  },
  {
   "cell_type": "code",
   "execution_count": 31,
   "id": "e678edc3",
   "metadata": {},
   "outputs": [
    {
     "data": {
      "image/png": "[encoded data removed]",
      "text/plain": [
       "<Figure size 640x480 with 1 Axes>"
      ]
     },
     "metadata": {},
     "output_type": "display_data"
    }
   ],
   "source": [
    "counts = df2['type'].value_counts()\n",
    "plt.bar(counts.index, counts.values)\n",
    "plt.xlabel('Type de transaction')\n",
    "plt.ylabel('Nombre de transactions')\n",
    "plt.title('diagramme des types de transaction')\n",
    "plt.xticks(rotation=45)\n",
    "plt.show()"
   ]
  },
  {
   "cell_type": "code",
   "execution_count": 32,
   "id": "22c14448",
   "metadata": {},
   "outputs": [
    {
     "data": {
      "image/png": "[encoded data removed]",
      "text/plain": [
       "<Figure size 640x480 with 1 Axes>"
      ]
     },
     "metadata": {},
     "output_type": "display_data"
    }
   ],
   "source": [
    "plt.pie(x = df2['type'].value_counts(),autopct='%.2f',labels=['CASH_OUT','PAYMENT','CASH_IN','TRANSFER','DEBIT'])\n",
    "plt.title('répartition des types de transaction')\n",
    "plt.show()"
   ]
  },
  {
   "cell_type": "code",
   "execution_count": 33,
   "id": "be45f615",
   "metadata": {},
   "outputs": [
    {
     "data": {
      "text/plain": [
       "<seaborn.axisgrid.FacetGrid at 0x2206d5fa290>"
      ]
     },
     "execution_count": 33,
     "metadata": {},
     "output_type": "execute_result"
    },
    {
     "data": {
      "image/png": "[encoded data removed]",
      "text/plain": [
       "<Figure size 500x500 with 1 Axes>"
      ]
     },
     "metadata": {},
     "output_type": "display_data"
    }
   ],
   "source": [
    "# type et isFraud\n",
    "sns.catplot(data=df2, x=\"type\", y=\"isFraud\")"
   ]
  },
  {
   "cell_type": "code",
   "execution_count": 34,
   "id": "4eed288e",
   "metadata": {},
   "outputs": [],
   "source": [
    "#la plupart des transactions frauduleuses sont effectuées avec \"TRANSFER\" et \"CASH_OUT\""
   ]
  },
  {
   "cell_type": "code",
   "execution_count": 35,
   "id": "a893c2c1",
   "metadata": {},
   "outputs": [
    {
     "data": {
      "text/html": [
       "<div>\n",
       "<style scoped>\n",
       "    .dataframe tbody tr th:only-of-type {\n",
       "        vertical-align: middle;\n",
       "    }\n",
       "\n",
       "    .dataframe tbody tr th {\n",
       "        vertical-align: top;\n",
       "    }\n",
       "\n",
       "    .dataframe thead th {\n",
       "        text-align: right;\n",
       "    }\n",
       "</style>\n",
       "<table border=\"1\" class=\"dataframe\">\n",
       "  <thead>\n",
       "    <tr style=\"text-align: right;\">\n",
       "      <th></th>\n",
       "      <th>step</th>\n",
       "      <th>type</th>\n",
       "      <th>amount</th>\n",
       "      <th>nameOrig</th>\n",
       "      <th>oldbalanceOrg</th>\n",
       "      <th>newbalanceOrig</th>\n",
       "      <th>nameDest</th>\n",
       "      <th>oldbalanceDest</th>\n",
       "      <th>newbalanceDest</th>\n",
       "      <th>isFraud</th>\n",
       "      <th>isFlaggedFraud</th>\n",
       "    </tr>\n",
       "  </thead>\n",
       "  <tbody>\n",
       "    <tr>\n",
       "      <th>3</th>\n",
       "      <td>1</td>\n",
       "      <td>CASH_OUT</td>\n",
       "      <td>181.00</td>\n",
       "      <td>C840083671</td>\n",
       "      <td>181.00</td>\n",
       "      <td>0.0</td>\n",
       "      <td>C38997010</td>\n",
       "      <td>21182.00</td>\n",
       "      <td>0.00</td>\n",
       "      <td>1</td>\n",
       "      <td>0</td>\n",
       "    </tr>\n",
       "    <tr>\n",
       "      <th>252</th>\n",
       "      <td>1</td>\n",
       "      <td>CASH_OUT</td>\n",
       "      <td>2806.00</td>\n",
       "      <td>C2101527076</td>\n",
       "      <td>2806.00</td>\n",
       "      <td>0.0</td>\n",
       "      <td>C1007251739</td>\n",
       "      <td>26202.00</td>\n",
       "      <td>0.00</td>\n",
       "      <td>1</td>\n",
       "      <td>0</td>\n",
       "    </tr>\n",
       "    <tr>\n",
       "      <th>681</th>\n",
       "      <td>1</td>\n",
       "      <td>CASH_OUT</td>\n",
       "      <td>20128.00</td>\n",
       "      <td>C1118430673</td>\n",
       "      <td>20128.00</td>\n",
       "      <td>0.0</td>\n",
       "      <td>C339924917</td>\n",
       "      <td>6268.00</td>\n",
       "      <td>12145.85</td>\n",
       "      <td>1</td>\n",
       "      <td>0</td>\n",
       "    </tr>\n",
       "    <tr>\n",
       "      <th>724</th>\n",
       "      <td>1</td>\n",
       "      <td>CASH_OUT</td>\n",
       "      <td>416001.33</td>\n",
       "      <td>C749981943</td>\n",
       "      <td>0.00</td>\n",
       "      <td>0.0</td>\n",
       "      <td>C667346055</td>\n",
       "      <td>102.00</td>\n",
       "      <td>9291619.62</td>\n",
       "      <td>1</td>\n",
       "      <td>0</td>\n",
       "    </tr>\n",
       "    <tr>\n",
       "      <th>970</th>\n",
       "      <td>1</td>\n",
       "      <td>CASH_OUT</td>\n",
       "      <td>1277212.77</td>\n",
       "      <td>C467632528</td>\n",
       "      <td>1277212.77</td>\n",
       "      <td>0.0</td>\n",
       "      <td>C716083600</td>\n",
       "      <td>0.00</td>\n",
       "      <td>2444985.19</td>\n",
       "      <td>1</td>\n",
       "      <td>0</td>\n",
       "    </tr>\n",
       "    <tr>\n",
       "      <th>...</th>\n",
       "      <td>...</td>\n",
       "      <td>...</td>\n",
       "      <td>...</td>\n",
       "      <td>...</td>\n",
       "      <td>...</td>\n",
       "      <td>...</td>\n",
       "      <td>...</td>\n",
       "      <td>...</td>\n",
       "      <td>...</td>\n",
       "      <td>...</td>\n",
       "      <td>...</td>\n",
       "    </tr>\n",
       "    <tr>\n",
       "      <th>6362611</th>\n",
       "      <td>742</td>\n",
       "      <td>CASH_OUT</td>\n",
       "      <td>63416.99</td>\n",
       "      <td>C994950684</td>\n",
       "      <td>63416.99</td>\n",
       "      <td>0.0</td>\n",
       "      <td>C1662241365</td>\n",
       "      <td>276433.18</td>\n",
       "      <td>339850.17</td>\n",
       "      <td>1</td>\n",
       "      <td>0</td>\n",
       "    </tr>\n",
       "    <tr>\n",
       "      <th>6362613</th>\n",
       "      <td>743</td>\n",
       "      <td>CASH_OUT</td>\n",
       "      <td>1258818.82</td>\n",
       "      <td>C1436118706</td>\n",
       "      <td>1258818.82</td>\n",
       "      <td>0.0</td>\n",
       "      <td>C1240760502</td>\n",
       "      <td>503464.50</td>\n",
       "      <td>1762283.33</td>\n",
       "      <td>1</td>\n",
       "      <td>0</td>\n",
       "    </tr>\n",
       "    <tr>\n",
       "      <th>6362615</th>\n",
       "      <td>743</td>\n",
       "      <td>CASH_OUT</td>\n",
       "      <td>339682.13</td>\n",
       "      <td>C786484425</td>\n",
       "      <td>339682.13</td>\n",
       "      <td>0.0</td>\n",
       "      <td>C776919290</td>\n",
       "      <td>0.00</td>\n",
       "      <td>339682.13</td>\n",
       "      <td>1</td>\n",
       "      <td>0</td>\n",
       "    </tr>\n",
       "    <tr>\n",
       "      <th>6362617</th>\n",
       "      <td>743</td>\n",
       "      <td>CASH_OUT</td>\n",
       "      <td>6311409.28</td>\n",
       "      <td>C1162922333</td>\n",
       "      <td>6311409.28</td>\n",
       "      <td>0.0</td>\n",
       "      <td>C1365125890</td>\n",
       "      <td>68488.84</td>\n",
       "      <td>6379898.11</td>\n",
       "      <td>1</td>\n",
       "      <td>0</td>\n",
       "    </tr>\n",
       "    <tr>\n",
       "      <th>6362619</th>\n",
       "      <td>743</td>\n",
       "      <td>CASH_OUT</td>\n",
       "      <td>850002.52</td>\n",
       "      <td>C1280323807</td>\n",
       "      <td>850002.52</td>\n",
       "      <td>0.0</td>\n",
       "      <td>C873221189</td>\n",
       "      <td>6510099.11</td>\n",
       "      <td>7360101.63</td>\n",
       "      <td>1</td>\n",
       "      <td>0</td>\n",
       "    </tr>\n",
       "  </tbody>\n",
       "</table>\n",
       "<p>4116 rows × 11 columns</p>\n",
       "</div>"
      ],
      "text/plain": [
       "         step      type      amount     nameOrig  oldbalanceOrg  \\\n",
       "3           1  CASH_OUT      181.00   C840083671         181.00   \n",
       "252         1  CASH_OUT     2806.00  C2101527076        2806.00   \n",
       "681         1  CASH_OUT    20128.00  C1118430673       20128.00   \n",
       "724         1  CASH_OUT   416001.33   C749981943           0.00   \n",
       "970         1  CASH_OUT  1277212.77   C467632528     1277212.77   \n",
       "...       ...       ...         ...          ...            ...   \n",
       "6362611   742  CASH_OUT    63416.99   C994950684       63416.99   \n",
       "6362613   743  CASH_OUT  1258818.82  C1436118706     1258818.82   \n",
       "6362615   743  CASH_OUT   339682.13   C786484425      339682.13   \n",
       "6362617   743  CASH_OUT  6311409.28  C1162922333     6311409.28   \n",
       "6362619   743  CASH_OUT   850002.52  C1280323807      850002.52   \n",
       "\n",
       "         newbalanceOrig     nameDest  oldbalanceDest  newbalanceDest  isFraud  \\\n",
       "3                   0.0    C38997010        21182.00            0.00        1   \n",
       "252                 0.0  C1007251739        26202.00            0.00        1   \n",
       "681                 0.0   C339924917         6268.00        12145.85        1   \n",
       "724                 0.0   C667346055          102.00      9291619.62        1   \n",
       "970                 0.0   C716083600            0.00      2444985.19        1   \n",
       "...                 ...          ...             ...             ...      ...   \n",
       "6362611             0.0  C1662241365       276433.18       339850.17        1   \n",
       "6362613             0.0  C1240760502       503464.50      1762283.33        1   \n",
       "6362615             0.0   C776919290            0.00       339682.13        1   \n",
       "6362617             0.0  C1365125890        68488.84      6379898.11        1   \n",
       "6362619             0.0   C873221189      6510099.11      7360101.63        1   \n",
       "\n",
       "         isFlaggedFraud  \n",
       "3                     0  \n",
       "252                   0  \n",
       "681                   0  \n",
       "724                   0  \n",
       "970                   0  \n",
       "...                 ...  \n",
       "6362611               0  \n",
       "6362613               0  \n",
       "6362615               0  \n",
       "6362617               0  \n",
       "6362619               0  \n",
       "\n",
       "[4116 rows x 11 columns]"
      ]
     },
     "execution_count": 35,
     "metadata": {},
     "output_type": "execute_result"
    }
   ],
   "source": [
    "# le type cash_out : \n",
    "F1 = df2.loc[(df2['type']==\"CASH_OUT\") & (df2['isFraud']==1)]\n",
    "F1"
   ]
  },
  {
   "cell_type": "code",
   "execution_count": 36,
   "id": "ec26a5f8",
   "metadata": {},
   "outputs": [
    {
     "data": {
      "text/html": [
       "<div>\n",
       "<style scoped>\n",
       "    .dataframe tbody tr th:only-of-type {\n",
       "        vertical-align: middle;\n",
       "    }\n",
       "\n",
       "    .dataframe tbody tr th {\n",
       "        vertical-align: top;\n",
       "    }\n",
       "\n",
       "    .dataframe thead th {\n",
       "        text-align: right;\n",
       "    }\n",
       "</style>\n",
       "<table border=\"1\" class=\"dataframe\">\n",
       "  <thead>\n",
       "    <tr style=\"text-align: right;\">\n",
       "      <th></th>\n",
       "      <th>step</th>\n",
       "      <th>type</th>\n",
       "      <th>amount</th>\n",
       "      <th>nameOrig</th>\n",
       "      <th>oldbalanceOrg</th>\n",
       "      <th>newbalanceOrig</th>\n",
       "      <th>nameDest</th>\n",
       "      <th>oldbalanceDest</th>\n",
       "      <th>newbalanceDest</th>\n",
       "      <th>isFraud</th>\n",
       "      <th>isFlaggedFraud</th>\n",
       "    </tr>\n",
       "  </thead>\n",
       "  <tbody>\n",
       "    <tr>\n",
       "      <th>2</th>\n",
       "      <td>1</td>\n",
       "      <td>TRANSFER</td>\n",
       "      <td>181.00</td>\n",
       "      <td>C1305486145</td>\n",
       "      <td>181.00</td>\n",
       "      <td>0.0</td>\n",
       "      <td>C553264065</td>\n",
       "      <td>0.0</td>\n",
       "      <td>0.0</td>\n",
       "      <td>1</td>\n",
       "      <td>0</td>\n",
       "    </tr>\n",
       "    <tr>\n",
       "      <th>251</th>\n",
       "      <td>1</td>\n",
       "      <td>TRANSFER</td>\n",
       "      <td>2806.00</td>\n",
       "      <td>C1420196421</td>\n",
       "      <td>2806.00</td>\n",
       "      <td>0.0</td>\n",
       "      <td>C972765878</td>\n",
       "      <td>0.0</td>\n",
       "      <td>0.0</td>\n",
       "      <td>1</td>\n",
       "      <td>0</td>\n",
       "    </tr>\n",
       "    <tr>\n",
       "      <th>680</th>\n",
       "      <td>1</td>\n",
       "      <td>TRANSFER</td>\n",
       "      <td>20128.00</td>\n",
       "      <td>C137533655</td>\n",
       "      <td>20128.00</td>\n",
       "      <td>0.0</td>\n",
       "      <td>C1848415041</td>\n",
       "      <td>0.0</td>\n",
       "      <td>0.0</td>\n",
       "      <td>1</td>\n",
       "      <td>0</td>\n",
       "    </tr>\n",
       "    <tr>\n",
       "      <th>969</th>\n",
       "      <td>1</td>\n",
       "      <td>TRANSFER</td>\n",
       "      <td>1277212.77</td>\n",
       "      <td>C1334405552</td>\n",
       "      <td>1277212.77</td>\n",
       "      <td>0.0</td>\n",
       "      <td>C431687661</td>\n",
       "      <td>0.0</td>\n",
       "      <td>0.0</td>\n",
       "      <td>1</td>\n",
       "      <td>0</td>\n",
       "    </tr>\n",
       "    <tr>\n",
       "      <th>1115</th>\n",
       "      <td>1</td>\n",
       "      <td>TRANSFER</td>\n",
       "      <td>35063.63</td>\n",
       "      <td>C1364127192</td>\n",
       "      <td>35063.63</td>\n",
       "      <td>0.0</td>\n",
       "      <td>C1136419747</td>\n",
       "      <td>0.0</td>\n",
       "      <td>0.0</td>\n",
       "      <td>1</td>\n",
       "      <td>0</td>\n",
       "    </tr>\n",
       "    <tr>\n",
       "      <th>...</th>\n",
       "      <td>...</td>\n",
       "      <td>...</td>\n",
       "      <td>...</td>\n",
       "      <td>...</td>\n",
       "      <td>...</td>\n",
       "      <td>...</td>\n",
       "      <td>...</td>\n",
       "      <td>...</td>\n",
       "      <td>...</td>\n",
       "      <td>...</td>\n",
       "      <td>...</td>\n",
       "    </tr>\n",
       "    <tr>\n",
       "      <th>6362610</th>\n",
       "      <td>742</td>\n",
       "      <td>TRANSFER</td>\n",
       "      <td>63416.99</td>\n",
       "      <td>C778071008</td>\n",
       "      <td>63416.99</td>\n",
       "      <td>0.0</td>\n",
       "      <td>C1812552860</td>\n",
       "      <td>0.0</td>\n",
       "      <td>0.0</td>\n",
       "      <td>1</td>\n",
       "      <td>0</td>\n",
       "    </tr>\n",
       "    <tr>\n",
       "      <th>6362612</th>\n",
       "      <td>743</td>\n",
       "      <td>TRANSFER</td>\n",
       "      <td>1258818.82</td>\n",
       "      <td>C1531301470</td>\n",
       "      <td>1258818.82</td>\n",
       "      <td>0.0</td>\n",
       "      <td>C1470998563</td>\n",
       "      <td>0.0</td>\n",
       "      <td>0.0</td>\n",
       "      <td>1</td>\n",
       "      <td>0</td>\n",
       "    </tr>\n",
       "    <tr>\n",
       "      <th>6362614</th>\n",
       "      <td>743</td>\n",
       "      <td>TRANSFER</td>\n",
       "      <td>339682.13</td>\n",
       "      <td>C2013999242</td>\n",
       "      <td>339682.13</td>\n",
       "      <td>0.0</td>\n",
       "      <td>C1850423904</td>\n",
       "      <td>0.0</td>\n",
       "      <td>0.0</td>\n",
       "      <td>1</td>\n",
       "      <td>0</td>\n",
       "    </tr>\n",
       "    <tr>\n",
       "      <th>6362616</th>\n",
       "      <td>743</td>\n",
       "      <td>TRANSFER</td>\n",
       "      <td>6311409.28</td>\n",
       "      <td>C1529008245</td>\n",
       "      <td>6311409.28</td>\n",
       "      <td>0.0</td>\n",
       "      <td>C1881841831</td>\n",
       "      <td>0.0</td>\n",
       "      <td>0.0</td>\n",
       "      <td>1</td>\n",
       "      <td>0</td>\n",
       "    </tr>\n",
       "    <tr>\n",
       "      <th>6362618</th>\n",
       "      <td>743</td>\n",
       "      <td>TRANSFER</td>\n",
       "      <td>850002.52</td>\n",
       "      <td>C1685995037</td>\n",
       "      <td>850002.52</td>\n",
       "      <td>0.0</td>\n",
       "      <td>C2080388513</td>\n",
       "      <td>0.0</td>\n",
       "      <td>0.0</td>\n",
       "      <td>1</td>\n",
       "      <td>0</td>\n",
       "    </tr>\n",
       "  </tbody>\n",
       "</table>\n",
       "<p>4097 rows × 11 columns</p>\n",
       "</div>"
      ],
      "text/plain": [
       "         step      type      amount     nameOrig  oldbalanceOrg  \\\n",
       "2           1  TRANSFER      181.00  C1305486145         181.00   \n",
       "251         1  TRANSFER     2806.00  C1420196421        2806.00   \n",
       "680         1  TRANSFER    20128.00   C137533655       20128.00   \n",
       "969         1  TRANSFER  1277212.77  C1334405552     1277212.77   \n",
       "1115        1  TRANSFER    35063.63  C1364127192       35063.63   \n",
       "...       ...       ...         ...          ...            ...   \n",
       "6362610   742  TRANSFER    63416.99   C778071008       63416.99   \n",
       "6362612   743  TRANSFER  1258818.82  C1531301470     1258818.82   \n",
       "6362614   743  TRANSFER   339682.13  C2013999242      339682.13   \n",
       "6362616   743  TRANSFER  6311409.28  C1529008245     6311409.28   \n",
       "6362618   743  TRANSFER   850002.52  C1685995037      850002.52   \n",
       "\n",
       "         newbalanceOrig     nameDest  oldbalanceDest  newbalanceDest  isFraud  \\\n",
       "2                   0.0   C553264065             0.0             0.0        1   \n",
       "251                 0.0   C972765878             0.0             0.0        1   \n",
       "680                 0.0  C1848415041             0.0             0.0        1   \n",
       "969                 0.0   C431687661             0.0             0.0        1   \n",
       "1115                0.0  C1136419747             0.0             0.0        1   \n",
       "...                 ...          ...             ...             ...      ...   \n",
       "6362610             0.0  C1812552860             0.0             0.0        1   \n",
       "6362612             0.0  C1470998563             0.0             0.0        1   \n",
       "6362614             0.0  C1850423904             0.0             0.0        1   \n",
       "6362616             0.0  C1881841831             0.0             0.0        1   \n",
       "6362618             0.0  C2080388513             0.0             0.0        1   \n",
       "\n",
       "         isFlaggedFraud  \n",
       "2                     0  \n",
       "251                   0  \n",
       "680                   0  \n",
       "969                   0  \n",
       "1115                  0  \n",
       "...                 ...  \n",
       "6362610               0  \n",
       "6362612               0  \n",
       "6362614               0  \n",
       "6362616               0  \n",
       "6362618               0  \n",
       "\n",
       "[4097 rows x 11 columns]"
      ]
     },
     "execution_count": 36,
     "metadata": {},
     "output_type": "execute_result"
    }
   ],
   "source": [
    "# le type transfer\n",
    "F2= df2.loc[(df2['type']==\"TRANSFER\") & (df2['isFraud']==1)]\n",
    "F2"
   ]
  },
  {
   "cell_type": "code",
   "execution_count": 37,
   "id": "dafce049",
   "metadata": {},
   "outputs": [
    {
     "data": {
      "text/plain": [
       "True"
      ]
     },
     "execution_count": 37,
     "metadata": {},
     "output_type": "execute_result"
    }
   ],
   "source": [
    "# F1.shape[0] + F2.shape[0] == df2['isFraud'].shape[0]\n",
    "\n",
    "F1.shape[0] + F2.shape[0] == df2[df2['isFraud'] == 1].shape[0]\n"
   ]
  },
  {
   "cell_type": "code",
   "execution_count": 38,
   "id": "6509e087",
   "metadata": {},
   "outputs": [
    {
     "data": {
      "text/html": [
       "<div>\n",
       "<style scoped>\n",
       "    .dataframe tbody tr th:only-of-type {\n",
       "        vertical-align: middle;\n",
       "    }\n",
       "\n",
       "    .dataframe tbody tr th {\n",
       "        vertical-align: top;\n",
       "    }\n",
       "\n",
       "    .dataframe thead th {\n",
       "        text-align: right;\n",
       "    }\n",
       "</style>\n",
       "<table border=\"1\" class=\"dataframe\">\n",
       "  <thead>\n",
       "    <tr style=\"text-align: right;\">\n",
       "      <th>type</th>\n",
       "      <th>CASH_IN</th>\n",
       "      <th>CASH_OUT</th>\n",
       "      <th>DEBIT</th>\n",
       "      <th>PAYMENT</th>\n",
       "      <th>TRANSFER</th>\n",
       "    </tr>\n",
       "    <tr>\n",
       "      <th>isFraud</th>\n",
       "      <th></th>\n",
       "      <th></th>\n",
       "      <th></th>\n",
       "      <th></th>\n",
       "      <th></th>\n",
       "    </tr>\n",
       "  </thead>\n",
       "  <tbody>\n",
       "    <tr>\n",
       "      <th>0</th>\n",
       "      <td>1399284</td>\n",
       "      <td>2233384</td>\n",
       "      <td>41432</td>\n",
       "      <td>2151495</td>\n",
       "      <td>528812</td>\n",
       "    </tr>\n",
       "    <tr>\n",
       "      <th>1</th>\n",
       "      <td>0</td>\n",
       "      <td>4116</td>\n",
       "      <td>0</td>\n",
       "      <td>0</td>\n",
       "      <td>4097</td>\n",
       "    </tr>\n",
       "  </tbody>\n",
       "</table>\n",
       "</div>"
      ],
      "text/plain": [
       "type     CASH_IN  CASH_OUT  DEBIT  PAYMENT  TRANSFER\n",
       "isFraud                                             \n",
       "0        1399284   2233384  41432  2151495    528812\n",
       "1              0      4116      0        0      4097"
      ]
     },
     "execution_count": 38,
     "metadata": {},
     "output_type": "execute_result"
    }
   ],
   "source": [
    "# On peut meme verifier directement avec groupby()\n",
    "df2.groupby(['isFraud', 'type']).size().unstack(fill_value=0)\n"
   ]
  },
  {
   "cell_type": "code",
   "execution_count": 39,
   "id": "ae0f6736",
   "metadata": {},
   "outputs": [],
   "source": [
    "# donc on remarque que toutes les transactions frauduleuses sont entre les types : \"CHASH_OUT\" et \"TRANSFER\""
   ]
  },
  {
   "cell_type": "markdown",
   "id": "585875a8",
   "metadata": {},
   "source": [
    "# 3. Prétraitement de données  (pre-processing) : \n",
    "#### encodage :\n",
    "         convertir les données qualitatives en valeurs numériques\n",
    "         \n",
    "#### normalisation :\n",
    "         mettre sur une meme echelle toutes  les variables quantitatives qui va facilite le ML\n",
    "         \n",
    "#### imputation :\n",
    "         remplacer les données manquantes par certaines valeurs statistiques\n",
    "         \n",
    "#### selection :\n",
    "         selectionner les variables les plus utiles pour le modele, tout en éliminant celles qui n'apportent pas de valeur\n",
    "         significative\n",
    "         \n",
    "#### extraction : \n",
    "         generer de nouvelles variables à partir d'informations cachés dans le dataset\n",
    "         \n",
    "#### Nettoyage : \n",
    "        Traiter les données pour éliminer les erreurs, les valeurs aberrantes et les redondances  "
   ]
  },
  {
   "cell_type": "markdown",
   "id": "7bd2d53a",
   "metadata": {},
   "source": [
    "### 3.1. vérifions s'il existe des valeurs manquantes(NaN) ou des mots vides : (imputation)"
   ]
  },
  {
   "cell_type": "code",
   "execution_count": 40,
   "id": "619272a9",
   "metadata": {},
   "outputs": [
    {
     "name": "stdout",
     "output_type": "stream",
     "text": [
      "step              False\n",
      "type              False\n",
      "amount            False\n",
      "nameOrig          False\n",
      "oldbalanceOrg     False\n",
      "newbalanceOrig    False\n",
      "nameDest          False\n",
      "oldbalanceDest    False\n",
      "newbalanceDest    False\n",
      "isFraud           False\n",
      "isFlaggedFraud    False\n",
      "dtype: bool\n",
      "_____________________________________\n",
      "step              0\n",
      "type              0\n",
      "amount            0\n",
      "nameOrig          0\n",
      "oldbalanceOrg     0\n",
      "newbalanceOrig    0\n",
      "nameDest          0\n",
      "oldbalanceDest    0\n",
      "newbalanceDest    0\n",
      "isFraud           0\n",
      "isFlaggedFraud    0\n",
      "dtype: int64\n",
      "_____________________________________\n",
      "step              0\n",
      "type              0\n",
      "amount            0\n",
      "nameOrig          0\n",
      "oldbalanceOrg     0\n",
      "newbalanceOrig    0\n",
      "nameDest          0\n",
      "oldbalanceDest    0\n",
      "newbalanceDest    0\n",
      "isFraud           0\n",
      "isFlaggedFraud    0\n",
      "dtype: int64\n"
     ]
    }
   ],
   "source": [
    "#les colonnes contiennent des valeurs null ?\n",
    "print(df2.isnull().any())\n",
    "print('_____________________________________')\n",
    "\n",
    "#les colonnes contiennent 'nbr' des NaN\n",
    "print(df2.isnull().sum())\n",
    "print('_____________________________________')\n",
    "\n",
    "#les colonnes contiennent 'nbr' des valeurs vides \n",
    "print(df2.eq('').sum())"
   ]
  },
  {
   "cell_type": "code",
   "execution_count": 41,
   "id": "e003119b",
   "metadata": {},
   "outputs": [],
   "source": [
    "#on remarque qu'on n'a aucun mot vide ('')\n",
    "#les colonnes ne contiennent pas des valeurs manquantes"
   ]
  },
  {
   "cell_type": "markdown",
   "id": "ac916fdc",
   "metadata": {},
   "source": [
    "### 3.2. les colonnes fortement corrélées : (selection )"
   ]
  },
  {
   "cell_type": "code",
   "execution_count": 42,
   "id": "856ba78c",
   "metadata": {},
   "outputs": [
    {
     "data": {
      "image/png": "[encoded data removed]",
      "text/plain": [
       "<Figure size 1500x500 with 2 Axes>"
      ]
     },
     "metadata": {},
     "output_type": "display_data"
    }
   ],
   "source": [
    "# on a trouvé précédement qu'il y avait une forte corrélation entre chaque deux paire de ces colonnes :\n",
    "\"\"\"\n",
    "\n",
    "oldbalanceOrg , newbalanceOrig = 0.998803\n",
    "                            \n",
    "oldbalanceDest , newbalanceDest = 0.976569\n",
    "\n",
    "\"\"\"\n",
    "# on va revoir la correlation avec seaborn \n",
    "\n",
    "plt.figure(figsize=(15,5))\n",
    "sns.heatmap(co.corr(), cmap='Blues', annot=True)\n",
    "plt.title('le graphique de correlation')\n",
    "plt.show()\n"
   ]
  },
  {
   "cell_type": "code",
   "execution_count": 43,
   "id": "c0fe5b8f",
   "metadata": {},
   "outputs": [
    {
     "data": {
      "text/plain": [
       "step              0.031578\n",
       "amount            0.076688\n",
       "oldbalanceOrg     0.010154\n",
       "newbalanceOrig   -0.008148\n",
       "oldbalanceDest   -0.005885\n",
       "newbalanceDest    0.000535\n",
       "isFraud           1.000000\n",
       "isFlaggedFraud    0.044109\n",
       "Name: isFraud, dtype: float64"
      ]
     },
     "execution_count": 43,
     "metadata": {},
     "output_type": "execute_result"
    }
   ],
   "source": [
    "#avant de choisir les colonnes à supprimer pour chaque paire ,\n",
    "# on va voir la corrélation de chaqu'une avec la variable target 'isFraud'\n",
    "co.corr()['isFraud']\n"
   ]
  },
  {
   "cell_type": "code",
   "execution_count": 44,
   "id": "7e2b48b4",
   "metadata": {},
   "outputs": [],
   "source": [
    "# on remarque que 'oldbalanceOrg'  et 'oldbalanceDest' sont plus corrélées avec la target 'isFraud'\n",
    "# 'oldbalanceDest' , 'newbalanceDest' sont moins corrélées avec 'isFraud'"
   ]
  },
  {
   "cell_type": "markdown",
   "id": "885bc483",
   "metadata": {},
   "source": [
    "#### donc on supprime ces deux derniers"
   ]
  },
  {
   "cell_type": "code",
   "execution_count": 45,
   "id": "8c8b0f17",
   "metadata": {},
   "outputs": [],
   "source": [
    "df2 = df2.drop(columns=['newbalanceDest', 'newbalanceOrig'])\n"
   ]
  },
  {
   "cell_type": "markdown",
   "id": "bf1a8bb1",
   "metadata": {},
   "source": [
    "### 3.3. les valeurs aberrantes {Outliers}  :  (nettoyage)\n"
   ]
  },
  {
   "cell_type": "code",
   "execution_count": 46,
   "id": "f17c2de8",
   "metadata": {},
   "outputs": [
    {
     "data": {
      "image/png": "[encoded data removed]",
      "text/plain": [
       "<Figure size 1200x600 with 1 Axes>"
      ]
     },
     "metadata": {},
     "output_type": "display_data"
    }
   ],
   "source": [
    "# visualisons la distribution des données et des valeurs aberrantes .\n",
    "fig = plt.figure(figsize=(12,6))\n",
    "sns.boxplot(df2)\n",
    "plt.show()\n",
    "\n"
   ]
  },
  {
   "cell_type": "code",
   "execution_count": 47,
   "id": "4007eedf",
   "metadata": {},
   "outputs": [
    {
     "data": {
      "image/png": "[encoded data removed]",
      "text/plain": [
       "<Figure size 1500x1500 with 8 Axes>"
      ]
     },
     "metadata": {},
     "output_type": "display_data"
    }
   ],
   "source": [
    "\n",
    "# on va voir en détails\n",
    "coll = [i for i in co.columns]\n",
    "\n",
    "fig, axes = plt.subplots(nrows=3, ncols=3, figsize=(15, 15))\n",
    "\n",
    "for i, col_name in enumerate(coll):\n",
    "    row = i // 3\n",
    "    col = i % 3\n",
    "\n",
    "    sns.boxplot(y=co[col_name], ax=axes[row][col]).set_title(col_name)\n",
    "    \n",
    "fig.delaxes(axes.flatten()[len(coll)])\n",
    "plt.tight_layout()\n",
    "plt.show()"
   ]
  },
  {
   "cell_type": "markdown",
   "id": "dd5f20f6",
   "metadata": {},
   "source": [
    "#### pour la colonne 'step'"
   ]
  },
  {
   "cell_type": "code",
   "execution_count": null,
   "id": "c7a35ce3",
   "metadata": {},
   "outputs": [],
   "source": []
  },
  {
   "cell_type": "code",
   "execution_count": 48,
   "id": "ee1ef93c",
   "metadata": {},
   "outputs": [],
   "source": [
    "#créons une nouvelle colonne 'hours' , elle contient les heurs sous format de 24H  (de 0 jusqu'à 23 )\n",
    "# Prenons la colonne 'step' et on Convertie  en format 24H (diviser par 24)\n",
    "df2['hours'] = df2['step'] % 24\n",
    "\n"
   ]
  },
  {
   "cell_type": "code",
   "execution_count": 49,
   "id": "59074bc2",
   "metadata": {},
   "outputs": [
    {
     "data": {
      "text/html": [
       "<div>\n",
       "<style scoped>\n",
       "    .dataframe tbody tr th:only-of-type {\n",
       "        vertical-align: middle;\n",
       "    }\n",
       "\n",
       "    .dataframe tbody tr th {\n",
       "        vertical-align: top;\n",
       "    }\n",
       "\n",
       "    .dataframe thead th {\n",
       "        text-align: right;\n",
       "    }\n",
       "</style>\n",
       "<table border=\"1\" class=\"dataframe\">\n",
       "  <thead>\n",
       "    <tr style=\"text-align: right;\">\n",
       "      <th></th>\n",
       "      <th>step</th>\n",
       "      <th>type</th>\n",
       "      <th>amount</th>\n",
       "      <th>nameOrig</th>\n",
       "      <th>oldbalanceOrg</th>\n",
       "      <th>nameDest</th>\n",
       "      <th>oldbalanceDest</th>\n",
       "      <th>isFraud</th>\n",
       "      <th>isFlaggedFraud</th>\n",
       "      <th>hours</th>\n",
       "    </tr>\n",
       "  </thead>\n",
       "  <tbody>\n",
       "    <tr>\n",
       "      <th>2381836</th>\n",
       "      <td>194</td>\n",
       "      <td>CASH_OUT</td>\n",
       "      <td>152218.12</td>\n",
       "      <td>C127033800</td>\n",
       "      <td>44900.07</td>\n",
       "      <td>C744301938</td>\n",
       "      <td>908073.63</td>\n",
       "      <td>0</td>\n",
       "      <td>0</td>\n",
       "      <td>2</td>\n",
       "    </tr>\n",
       "    <tr>\n",
       "      <th>4302278</th>\n",
       "      <td>307</td>\n",
       "      <td>CASH_OUT</td>\n",
       "      <td>168463.28</td>\n",
       "      <td>C447611683</td>\n",
       "      <td>0.00</td>\n",
       "      <td>C1255261816</td>\n",
       "      <td>1221691.69</td>\n",
       "      <td>0</td>\n",
       "      <td>0</td>\n",
       "      <td>19</td>\n",
       "    </tr>\n",
       "    <tr>\n",
       "      <th>3489072</th>\n",
       "      <td>258</td>\n",
       "      <td>CASH_IN</td>\n",
       "      <td>43256.84</td>\n",
       "      <td>C233311816</td>\n",
       "      <td>7598264.67</td>\n",
       "      <td>C718744628</td>\n",
       "      <td>597777.61</td>\n",
       "      <td>0</td>\n",
       "      <td>0</td>\n",
       "      <td>18</td>\n",
       "    </tr>\n",
       "    <tr>\n",
       "      <th>3849017</th>\n",
       "      <td>282</td>\n",
       "      <td>CASH_IN</td>\n",
       "      <td>186349.87</td>\n",
       "      <td>C2086174677</td>\n",
       "      <td>398690.90</td>\n",
       "      <td>C603150303</td>\n",
       "      <td>859551.71</td>\n",
       "      <td>0</td>\n",
       "      <td>0</td>\n",
       "      <td>18</td>\n",
       "    </tr>\n",
       "    <tr>\n",
       "      <th>1152782</th>\n",
       "      <td>131</td>\n",
       "      <td>CASH_OUT</td>\n",
       "      <td>259963.34</td>\n",
       "      <td>C677213744</td>\n",
       "      <td>1216.00</td>\n",
       "      <td>C1686634273</td>\n",
       "      <td>120537.19</td>\n",
       "      <td>0</td>\n",
       "      <td>0</td>\n",
       "      <td>11</td>\n",
       "    </tr>\n",
       "  </tbody>\n",
       "</table>\n",
       "</div>"
      ],
      "text/plain": [
       "         step      type     amount     nameOrig  oldbalanceOrg     nameDest  \\\n",
       "2381836   194  CASH_OUT  152218.12   C127033800       44900.07   C744301938   \n",
       "4302278   307  CASH_OUT  168463.28   C447611683           0.00  C1255261816   \n",
       "3489072   258   CASH_IN   43256.84   C233311816     7598264.67   C718744628   \n",
       "3849017   282   CASH_IN  186349.87  C2086174677      398690.90   C603150303   \n",
       "1152782   131  CASH_OUT  259963.34   C677213744        1216.00  C1686634273   \n",
       "\n",
       "         oldbalanceDest  isFraud  isFlaggedFraud  hours  \n",
       "2381836       908073.63        0               0      2  \n",
       "4302278      1221691.69        0               0     19  \n",
       "3489072       597777.61        0               0     18  \n",
       "3849017       859551.71        0               0     18  \n",
       "1152782       120537.19        0               0     11  "
      ]
     },
     "execution_count": 49,
     "metadata": {},
     "output_type": "execute_result"
    }
   ],
   "source": [
    "df2.sample(n=5)"
   ]
  },
  {
   "cell_type": "code",
   "execution_count": 50,
   "id": "110e98b4",
   "metadata": {},
   "outputs": [
    {
     "data": {
      "text/plain": [
       "hours\n",
       "0     300\n",
       "1     358\n",
       "2     372\n",
       "3     326\n",
       "4     274\n",
       "5     366\n",
       "6     358\n",
       "7     328\n",
       "8     368\n",
       "9     341\n",
       "10    375\n",
       "11    324\n",
       "12    339\n",
       "13    346\n",
       "14    353\n",
       "15    341\n",
       "16    345\n",
       "17    353\n",
       "18    343\n",
       "19    342\n",
       "20    340\n",
       "21    347\n",
       "22    351\n",
       "23    323\n",
       "Name: isFraud, dtype: int64"
      ]
     },
     "execution_count": 50,
     "metadata": {},
     "output_type": "execute_result"
    }
   ],
   "source": [
    "# on veut voir quel est l'heur  dans laquel les transactions frauduleuses sont étaient effectuées\n",
    "df2.groupby('hours')['isFraud'].sum()"
   ]
  },
  {
   "cell_type": "code",
   "execution_count": 51,
   "id": "db98afda",
   "metadata": {},
   "outputs": [],
   "source": [
    "# on voie qu'il n y'a pas une heure spécifique "
   ]
  },
  {
   "cell_type": "code",
   "execution_count": 52,
   "id": "33ec87f4",
   "metadata": {},
   "outputs": [],
   "source": [
    "# on supprime 'hours'\n",
    "df2 = df2.drop('hours', axis=1)\n"
   ]
  },
  {
   "cell_type": "code",
   "execution_count": 53,
   "id": "8edcba33",
   "metadata": {},
   "outputs": [
    {
     "data": {
      "text/plain": [
       "'\\nNous comprenons que la colonne \"step\" représente le temps, mais son point de départ est inconnu. \\nPar conséquent, nous ne pouvons pas ajouter d\\'avantage d\\'informations utiles de cette colonne.\\nPar exemple, nous ne savons pas si la transaction s\\'est produite pendant la journée ou la nuit, \\nen semaine ou le week-end.\\nPour cette raison, nous déciderons de ne pas utiliser cette information dans notre analyse.\\n\\n'"
      ]
     },
     "execution_count": 53,
     "metadata": {},
     "output_type": "execute_result"
    }
   ],
   "source": [
    " \n",
    "\"\"\"\n",
    "Nous comprenons que la colonne \"step\" représente le temps, mais son point de départ est inconnu. \n",
    "Par conséquent, nous ne pouvons pas ajouter d'avantage d'informations utiles de cette colonne.\n",
    "Par exemple, nous ne savons pas si la transaction s'est produite pendant la journée ou la nuit, \n",
    "en semaine ou le week-end.\n",
    "Pour cette raison, nous déciderons de ne pas utiliser cette information dans notre analyse.\n",
    "\n",
    "\"\"\""
   ]
  },
  {
   "cell_type": "code",
   "execution_count": 54,
   "id": "11a90391",
   "metadata": {},
   "outputs": [],
   "source": [
    "# on la supprime \n",
    "df2 = df2.drop('step', axis=1)"
   ]
  },
  {
   "cell_type": "code",
   "execution_count": 55,
   "id": "2448ed4d",
   "metadata": {},
   "outputs": [],
   "source": [
    "# on remarque qu'on a des valeurs extrémes \n",
    "# on veut maintenant récuperer ces outliers"
   ]
  },
  {
   "cell_type": "code",
   "execution_count": 56,
   "id": "c3944827",
   "metadata": {},
   "outputs": [],
   "source": [
    "def trouver_outliers(i):\n",
    "    Q1 = df2[i].quantile(0.25)\n",
    "\n",
    "    Q3 = df2[i].quantile(0.75)\n",
    "\n",
    "    EIQ = Q3 - Q1\n",
    "\n",
    "    LI= Q1 - (1.5*EIQ)\n",
    "\n",
    "    LS= Q3 + (1.5*EIQ)\n",
    "    print(\"la limite inférieur est \",LI)\n",
    "    print(\"la limite superieur est \",LS)\n",
    "    out_min = df2[df2[i] < LI]\n",
    "    out_max =  df2[df2[i] > LS]\n",
    "    print('le nombre des outliers qui sont inf ', out_min.shape[0])\n",
    "    print('le nombre des outliers qui sont sup ', out_max.shape[0])\n",
    "    "
   ]
  },
  {
   "cell_type": "code",
   "execution_count": null,
   "id": "ce36f2dd",
   "metadata": {},
   "outputs": [],
   "source": []
  },
  {
   "cell_type": "code",
   "execution_count": 57,
   "id": "56cfff94",
   "metadata": {},
   "outputs": [
    {
     "name": "stdout",
     "output_type": "stream",
     "text": [
      "la limite inférieur est  -279608.29125\n",
      "la limite superieur est  501719.33875\n",
      "le nombre des outliers qui sont inf  0\n",
      "le nombre des outliers qui sont sup  338078\n"
     ]
    }
   ],
   "source": [
    "trouver_outliers('amount')"
   ]
  },
  {
   "cell_type": "code",
   "execution_count": 58,
   "id": "1dc35c90",
   "metadata": {},
   "outputs": [],
   "source": [
    "# on a plus de 300000 des outliers"
   ]
  },
  {
   "cell_type": "code",
   "execution_count": 59,
   "id": "dca992f9",
   "metadata": {},
   "outputs": [
    {
     "name": "stdout",
     "output_type": "stream",
     "text": [
      "la limite inférieur est  -160972.7625\n",
      "la limite superieur est  268287.9375\n",
      "le nombre des outliers qui sont inf  0\n",
      "le nombre des outliers qui sont sup  1112507\n"
     ]
    }
   ],
   "source": [
    "trouver_outliers('oldbalanceOrg')"
   ]
  },
  {
   "cell_type": "code",
   "execution_count": 60,
   "id": "defad584",
   "metadata": {},
   "outputs": [],
   "source": [
    "# on a plus de 1 million des outliers"
   ]
  },
  {
   "cell_type": "code",
   "execution_count": 61,
   "id": "b6db39fe",
   "metadata": {},
   "outputs": [
    {
     "name": "stdout",
     "output_type": "stream",
     "text": [
      "la limite inférieur est  -1414555.06125\n",
      "la limite superieur est  2357591.76875\n",
      "le nombre des outliers qui sont inf  0\n",
      "le nombre des outliers qui sont sup  786135\n"
     ]
    }
   ],
   "source": [
    "trouver_outliers('oldbalanceDest')"
   ]
  },
  {
   "cell_type": "code",
   "execution_count": 62,
   "id": "372354b4",
   "metadata": {},
   "outputs": [],
   "source": [
    "# on a plus de 700000 des outliers"
   ]
  },
  {
   "cell_type": "code",
   "execution_count": 63,
   "id": "34486174",
   "metadata": {},
   "outputs": [],
   "source": [
    "# on voie qu'il y a plusieurs valeurs aberrantes dans ces colonnes.\n",
    "# on ne peut pas supprimer ces valeurs puisqu'on va perdre plusieurs informations utiles : \n",
    "# pour 'amount' , 'oldbalanceOrg' , si la quantité de monnaie est plus élevé , elle peut etre une transaction frauduleuse\n"
   ]
  },
  {
   "cell_type": "markdown",
   "id": "1ae02750",
   "metadata": {},
   "source": [
    "### 3.4. vérifions s'il existe des duplications :  (Nettoyage)"
   ]
  },
  {
   "cell_type": "code",
   "execution_count": 64,
   "id": "71ef27f7",
   "metadata": {},
   "outputs": [
    {
     "data": {
      "text/plain": [
       "0"
      ]
     },
     "execution_count": 64,
     "metadata": {},
     "output_type": "execute_result"
    }
   ],
   "source": [
    "#la duplication \n",
    "\n",
    "df2.duplicated().sum()"
   ]
  },
  {
   "cell_type": "code",
   "execution_count": 65,
   "id": "c9c39140",
   "metadata": {},
   "outputs": [],
   "source": [
    "# on remarque qu'il n'exsite pas de duplication"
   ]
  },
  {
   "cell_type": "markdown",
   "id": "02aab5de",
   "metadata": {},
   "source": [
    "### 3.5. les variables qualitatives : ( selection et encodage)"
   ]
  },
  {
   "cell_type": "code",
   "execution_count": 66,
   "id": "92ead168",
   "metadata": {},
   "outputs": [
    {
     "name": "stdout",
     "output_type": "stream",
     "text": [
      "type\n",
      "nameOrig\n",
      "nameDest\n"
     ]
    }
   ],
   "source": [
    "# on affiche les colonnes de type object\n",
    "for col in df2.select_dtypes('object') :\n",
    "    print(col)"
   ]
  },
  {
   "cell_type": "code",
   "execution_count": 67,
   "id": "754d4ca0",
   "metadata": {},
   "outputs": [
    {
     "name": "stdout",
     "output_type": "stream",
     "text": [
      "type----------------['PAYMENT' 'TRANSFER' 'CASH_OUT' 'DEBIT' 'CASH_IN']\n",
      "\n",
      "       _________________________________________________________________\n",
      "\n",
      "nameOrig------------['C1231006815' 'C1666544295' 'C1305486145' ... 'C1162922333' 'C1685995037'\n",
      " 'C1280323807']\n",
      "\n",
      "       _________________________________________________________________\n",
      "\n",
      "nameDest------------['M1979787155' 'M2044282225' 'C553264065' ... 'C1850423904' 'C1881841831'\n",
      " 'C2080388513']\n",
      "\n",
      "       _________________________________________________________________\n",
      "\n"
     ]
    }
   ],
   "source": [
    "for col in df2.select_dtypes('object') :\n",
    "    print(f'{col:-<20}{df2[col].unique()}\\n')\n",
    "    print('       _________________________________________________________________\\n')"
   ]
  },
  {
   "cell_type": "markdown",
   "id": "273def20",
   "metadata": {},
   "source": [
    "#### pour la colonne 'type'  :"
   ]
  },
  {
   "cell_type": "code",
   "execution_count": 68,
   "id": "a6b10f58",
   "metadata": {},
   "outputs": [],
   "source": [
    "#'type' a 5 valeurs uniques.\n",
    "# donc on peut manipuler (encoder) cette colonne "
   ]
  },
  {
   "cell_type": "code",
   "execution_count": 69,
   "id": "bf96a2f2",
   "metadata": {},
   "outputs": [],
   "source": [
    "#encodage de la colonne 'type' : \n",
    "df2['type'] = df2['type'].replace(['PAYMENT', 'TRANSFER', 'CASH_OUT', 'DEBIT', 'CASH_IN'],[1, 2, 3, 4, 5])"
   ]
  },
  {
   "cell_type": "code",
   "execution_count": 70,
   "id": "5c46ea0b",
   "metadata": {},
   "outputs": [
    {
     "data": {
      "text/html": [
       "<div>\n",
       "<style scoped>\n",
       "    .dataframe tbody tr th:only-of-type {\n",
       "        vertical-align: middle;\n",
       "    }\n",
       "\n",
       "    .dataframe tbody tr th {\n",
       "        vertical-align: top;\n",
       "    }\n",
       "\n",
       "    .dataframe thead th {\n",
       "        text-align: right;\n",
       "    }\n",
       "</style>\n",
       "<table border=\"1\" class=\"dataframe\">\n",
       "  <thead>\n",
       "    <tr style=\"text-align: right;\">\n",
       "      <th></th>\n",
       "      <th>type</th>\n",
       "      <th>amount</th>\n",
       "      <th>nameOrig</th>\n",
       "      <th>oldbalanceOrg</th>\n",
       "      <th>nameDest</th>\n",
       "      <th>oldbalanceDest</th>\n",
       "      <th>isFraud</th>\n",
       "      <th>isFlaggedFraud</th>\n",
       "    </tr>\n",
       "  </thead>\n",
       "  <tbody>\n",
       "    <tr>\n",
       "      <th>2491372</th>\n",
       "      <td>2</td>\n",
       "      <td>1752412.58</td>\n",
       "      <td>C128197013</td>\n",
       "      <td>0.0</td>\n",
       "      <td>C347759616</td>\n",
       "      <td>4153904.00</td>\n",
       "      <td>0</td>\n",
       "      <td>0</td>\n",
       "    </tr>\n",
       "    <tr>\n",
       "      <th>5895645</th>\n",
       "      <td>3</td>\n",
       "      <td>2195.53</td>\n",
       "      <td>C1926556416</td>\n",
       "      <td>383321.0</td>\n",
       "      <td>C601019313</td>\n",
       "      <td>396709.44</td>\n",
       "      <td>0</td>\n",
       "      <td>0</td>\n",
       "    </tr>\n",
       "    <tr>\n",
       "      <th>5117517</th>\n",
       "      <td>3</td>\n",
       "      <td>124055.94</td>\n",
       "      <td>C2122051269</td>\n",
       "      <td>0.0</td>\n",
       "      <td>C615633522</td>\n",
       "      <td>558837.49</td>\n",
       "      <td>0</td>\n",
       "      <td>0</td>\n",
       "    </tr>\n",
       "    <tr>\n",
       "      <th>1195391</th>\n",
       "      <td>1</td>\n",
       "      <td>2166.39</td>\n",
       "      <td>C1603720542</td>\n",
       "      <td>0.0</td>\n",
       "      <td>M316521948</td>\n",
       "      <td>0.00</td>\n",
       "      <td>0</td>\n",
       "      <td>0</td>\n",
       "    </tr>\n",
       "    <tr>\n",
       "      <th>2225269</th>\n",
       "      <td>5</td>\n",
       "      <td>65186.64</td>\n",
       "      <td>C1699615589</td>\n",
       "      <td>6235951.2</td>\n",
       "      <td>C1402945462</td>\n",
       "      <td>747238.47</td>\n",
       "      <td>0</td>\n",
       "      <td>0</td>\n",
       "    </tr>\n",
       "  </tbody>\n",
       "</table>\n",
       "</div>"
      ],
      "text/plain": [
       "         type      amount     nameOrig  oldbalanceOrg     nameDest  \\\n",
       "2491372     2  1752412.58   C128197013            0.0   C347759616   \n",
       "5895645     3     2195.53  C1926556416       383321.0   C601019313   \n",
       "5117517     3   124055.94  C2122051269            0.0   C615633522   \n",
       "1195391     1     2166.39  C1603720542            0.0   M316521948   \n",
       "2225269     5    65186.64  C1699615589      6235951.2  C1402945462   \n",
       "\n",
       "         oldbalanceDest  isFraud  isFlaggedFraud  \n",
       "2491372      4153904.00        0               0  \n",
       "5895645       396709.44        0               0  \n",
       "5117517       558837.49        0               0  \n",
       "1195391            0.00        0               0  \n",
       "2225269       747238.47        0               0  "
      ]
     },
     "execution_count": 70,
     "metadata": {},
     "output_type": "execute_result"
    }
   ],
   "source": [
    "df2.sample(n=5)"
   ]
  },
  {
   "cell_type": "markdown",
   "id": "5752372a",
   "metadata": {},
   "source": [
    "#### pour les deux colonnes 'nameOrg' et 'nameDest'"
   ]
  },
  {
   "cell_type": "code",
   "execution_count": 71,
   "id": "cc2d113f",
   "metadata": {},
   "outputs": [],
   "source": [
    "\n",
    "# on remarque que 'nameOrg' et 'nameDest' ont beaucoups de valeurs uniques"
   ]
  },
  {
   "cell_type": "markdown",
   "id": "fc90eaa1",
   "metadata": {},
   "source": [
    "#### on commence par verifier \"nameOrg\" :"
   ]
  },
  {
   "cell_type": "code",
   "execution_count": 72,
   "id": "ddd5beec",
   "metadata": {},
   "outputs": [
    {
     "data": {
      "text/plain": [
       "6353307"
      ]
     },
     "execution_count": 72,
     "metadata": {},
     "output_type": "execute_result"
    }
   ],
   "source": [
    "A = df2['nameOrig'].unique()\n",
    "A.shape[0]"
   ]
  },
  {
   "cell_type": "code",
   "execution_count": 73,
   "id": "7c8f6063",
   "metadata": {},
   "outputs": [
    {
     "data": {
      "text/plain": [
       "6362620"
      ]
     },
     "execution_count": 73,
     "metadata": {},
     "output_type": "execute_result"
    }
   ],
   "source": [
    "B = df2['nameOrig']\n",
    "B.shape[0]"
   ]
  },
  {
   "cell_type": "code",
   "execution_count": 74,
   "id": "ed9cc252",
   "metadata": {},
   "outputs": [
    {
     "data": {
      "text/plain": [
       "'le pourcentage des valeurs unique pour la colonne \"nameOrig\" est 99.85362947967975%'"
      ]
     },
     "execution_count": 74,
     "metadata": {},
     "output_type": "execute_result"
    }
   ],
   "source": [
    "(f'le pourcentage des valeurs unique pour la colonne \"nameOrig\" est {A.shape[0] / B.shape[0] * 100}%')"
   ]
  },
  {
   "cell_type": "code",
   "execution_count": 75,
   "id": "0872c63b",
   "metadata": {},
   "outputs": [],
   "source": [
    "# il y a beaucoups de valeurs uniques (99.85%)"
   ]
  },
  {
   "cell_type": "code",
   "execution_count": 76,
   "id": "0a20a35d",
   "metadata": {},
   "outputs": [],
   "source": [
    "#### on verifier \"nameDest\" :"
   ]
  },
  {
   "cell_type": "code",
   "execution_count": 77,
   "id": "3a4ecac7",
   "metadata": {},
   "outputs": [
    {
     "data": {
      "text/plain": [
       "2722362"
      ]
     },
     "execution_count": 77,
     "metadata": {},
     "output_type": "execute_result"
    }
   ],
   "source": [
    "A = df2['nameDest'].unique()\n",
    "A.shape[0]"
   ]
  },
  {
   "cell_type": "code",
   "execution_count": 78,
   "id": "bb2c7e48",
   "metadata": {},
   "outputs": [
    {
     "data": {
      "text/plain": [
       "6362620"
      ]
     },
     "execution_count": 78,
     "metadata": {},
     "output_type": "execute_result"
    }
   ],
   "source": [
    "B = df2['nameDest']\n",
    "B.shape[0]"
   ]
  },
  {
   "cell_type": "code",
   "execution_count": 79,
   "id": "9beff4cd",
   "metadata": {},
   "outputs": [
    {
     "data": {
      "text/plain": [
       "'le pourcentage des valeurs unique pour la colonne \"nameOrig\" est 42.78680795018404%'"
      ]
     },
     "execution_count": 79,
     "metadata": {},
     "output_type": "execute_result"
    }
   ],
   "source": [
    "(f'le pourcentage des valeurs unique pour la colonne \"nameOrig\" est {A.shape[0] / B.shape[0] * 100}%')"
   ]
  },
  {
   "cell_type": "code",
   "execution_count": 80,
   "id": "b6cb7a44",
   "metadata": {},
   "outputs": [],
   "source": [
    "# on a trops de de valeurs uniques (43%)"
   ]
  },
  {
   "cell_type": "code",
   "execution_count": 81,
   "id": "3fbc0606",
   "metadata": {},
   "outputs": [
    {
     "data": {
      "text/plain": [
       "\"\\nEn regardant les % obtenues ('nameOrig' et 'nameDest') ,  on remarque qu'il y a beaucoups de valeurs uniques ,\\nEn plus , ces colonnes ne contiennent que des strings ,ce qui les rend moins utiles  à prédire la fraude.\\non va essayer de réduire le nbr des valeurs uniques\\n\\n\""
      ]
     },
     "execution_count": 81,
     "metadata": {},
     "output_type": "execute_result"
    }
   ],
   "source": [
    "\"\"\"\n",
    "En regardant les % obtenues ('nameOrig' et 'nameDest') ,  on remarque qu'il y a beaucoups de valeurs uniques ,\n",
    "En plus , ces colonnes ne contiennent que des strings ,ce qui les rend moins utiles  à prédire la fraude.\n",
    "on va essayer de réduire le nbr des valeurs uniques\n",
    "\n",
    "\"\"\""
   ]
  },
  {
   "cell_type": "markdown",
   "id": "8afc6428",
   "metadata": {},
   "source": [
    "#### Avant de  supprimer 'nameOrig' et 'nameDest' , on veut voir plus profondement si ces colonnes peuvent avoir des informations utiles : "
   ]
  },
  {
   "cell_type": "code",
   "execution_count": 82,
   "id": "983c63e7",
   "metadata": {},
   "outputs": [],
   "source": [
    "# on  parcourt chaque premier caractère unique dans la colonne spécifiée \n",
    "def trouver_char_unique(i) :\n",
    "    for caractere in df2[i].str[0].unique() :\n",
    "        \n",
    "        matching_rows = df2[df2[i].str.startswith(caractere)]\n",
    "        print(f\"Caractère : {caractere}\")\n",
    "        print(matching_rows[i])\n",
    "        print(\"==========\")\n",
    "\n",
    "\n",
    "# df2 = df2.drop(columns=[ 'nameOrig' ,  'nameDest'])"
   ]
  },
  {
   "cell_type": "code",
   "execution_count": null,
   "id": "e1abf770",
   "metadata": {},
   "outputs": [],
   "source": []
  },
  {
   "cell_type": "code",
   "execution_count": 83,
   "id": "03a50d55",
   "metadata": {},
   "outputs": [
    {
     "name": "stdout",
     "output_type": "stream",
     "text": [
      "Caractère : M\n",
      "0          M1979787155\n",
      "1          M2044282225\n",
      "4          M1230701703\n",
      "5           M573487274\n",
      "6           M408069119\n",
      "              ...     \n",
      "6362312    M1112540487\n",
      "6362314    M1878955882\n",
      "6362316     M675916850\n",
      "6362318    M1126011651\n",
      "6362319     M747723689\n",
      "Name: nameDest, Length: 2151495, dtype: object\n",
      "==========\n",
      "Caractère : C\n",
      "2           C553264065\n",
      "3            C38997010\n",
      "9           C195600860\n",
      "10          C997608398\n",
      "15          C476402209\n",
      "              ...     \n",
      "6362615     C776919290\n",
      "6362616    C1881841831\n",
      "6362617    C1365125890\n",
      "6362618    C2080388513\n",
      "6362619     C873221189\n",
      "Name: nameDest, Length: 4211125, dtype: object\n",
      "==========\n"
     ]
    }
   ],
   "source": [
    "# on commence par nameDest\n",
    "trouver_char_unique('nameDest')"
   ]
  },
  {
   "cell_type": "code",
   "execution_count": 84,
   "id": "0c36203f",
   "metadata": {},
   "outputs": [],
   "source": [
    "# on remarque qu'il y a deux caractéres 'C' et 'M'\n",
    "# à partir de dictionnaire ,les transactions avec un destinataire dont le nom commence par \"C\" \n",
    "# sont des transactions où l'argent est envoyé à des clients particuliers.\n",
    "\n",
    "# les transactions avec un destinataire dont le nom commence par \"M\" \n",
    "#sont des transactions où l'argent est envoyé à des entreprises ou des commerçants."
   ]
  },
  {
   "cell_type": "code",
   "execution_count": 85,
   "id": "8f3ae4ae",
   "metadata": {},
   "outputs": [
    {
     "name": "stdout",
     "output_type": "stream",
     "text": [
      "pour les lignes qui commence par caractere :M il y a 0 fraudes\n",
      "pour les lignes qui commence par caractere :C il y a 8213 fraudes\n"
     ]
    }
   ],
   "source": [
    "# maintenant, on veut voir si les transactions frauduleuses ont été effectuées en direction des individus où des entreprises \n",
    "def nbr_tans_fraud(i) :\n",
    "    \n",
    "    for caractere in df2[i].str[0].unique() :\n",
    "        \n",
    "        frauds_by_character = df2[df2['isFraud'] == 1][i].str.startswith(caractere)\n",
    "        print(f'pour les lignes qui commence par caractere :{caractere} il y a {frauds_by_character.sum()} fraudes')\n",
    "nbr_tans_fraud('nameDest') \n",
    "        \n"
   ]
  },
  {
   "cell_type": "code",
   "execution_count": 86,
   "id": "eae86e39",
   "metadata": {},
   "outputs": [],
   "source": [
    "# alors , les transactions frauduleuses sont envoyées à des individus"
   ]
  },
  {
   "cell_type": "code",
   "execution_count": 87,
   "id": "e5728f72",
   "metadata": {},
   "outputs": [
    {
     "name": "stdout",
     "output_type": "stream",
     "text": [
      "Caractère : C\n",
      "0          C1231006815\n",
      "1          C1666544295\n",
      "2          C1305486145\n",
      "3           C840083671\n",
      "4          C2048537720\n",
      "              ...     \n",
      "6362615     C786484425\n",
      "6362616    C1529008245\n",
      "6362617    C1162922333\n",
      "6362618    C1685995037\n",
      "6362619    C1280323807\n",
      "Name: nameOrig, Length: 6362620, dtype: object\n",
      "==========\n"
     ]
    }
   ],
   "source": [
    "# pour 'nameOrg' \n",
    "trouver_char_unique('nameOrig')"
   ]
  },
  {
   "cell_type": "code",
   "execution_count": 88,
   "id": "c57895a5",
   "metadata": {},
   "outputs": [],
   "source": [
    "# on remarque que toutes les transaction sont effectuées par des individus , incluent les transactions frauduleuses\n",
    "# allez , on verifie  : "
   ]
  },
  {
   "cell_type": "code",
   "execution_count": 89,
   "id": "b8e8ca21",
   "metadata": {},
   "outputs": [
    {
     "name": "stdout",
     "output_type": "stream",
     "text": [
      "pour les lignes qui commence par caractere :C il y a 8213 fraudes\n"
     ]
    }
   ],
   "source": [
    "nbr_tans_fraud('nameOrig')"
   ]
  },
  {
   "cell_type": "code",
   "execution_count": 90,
   "id": "1149e9c1",
   "metadata": {},
   "outputs": [],
   "source": [
    "# ce qui est le cas ."
   ]
  },
  {
   "cell_type": "code",
   "execution_count": 91,
   "id": "2ee310ce",
   "metadata": {},
   "outputs": [],
   "source": [
    "# remplaçons des caractères uniques dans la colonne spécifiée (encodage)\n",
    "\n",
    "def remplacer_uniques (i) :\n",
    "    \n",
    "    for caractere in df2[i].str[0].unique():\n",
    "        matching_rows = df2[df2[i].str.startswith(caractere)]\n",
    "        df2.loc[matching_rows.index, i] = caractere\n"
   ]
  },
  {
   "cell_type": "code",
   "execution_count": 92,
   "id": "968b37c3",
   "metadata": {},
   "outputs": [],
   "source": [
    "remplacer_uniques ('nameDest')\n",
    "remplacer_uniques ('nameOrig')"
   ]
  },
  {
   "cell_type": "code",
   "execution_count": 93,
   "id": "999518db",
   "metadata": {},
   "outputs": [
    {
     "data": {
      "text/html": [
       "<div>\n",
       "<style scoped>\n",
       "    .dataframe tbody tr th:only-of-type {\n",
       "        vertical-align: middle;\n",
       "    }\n",
       "\n",
       "    .dataframe tbody tr th {\n",
       "        vertical-align: top;\n",
       "    }\n",
       "\n",
       "    .dataframe thead th {\n",
       "        text-align: right;\n",
       "    }\n",
       "</style>\n",
       "<table border=\"1\" class=\"dataframe\">\n",
       "  <thead>\n",
       "    <tr style=\"text-align: right;\">\n",
       "      <th></th>\n",
       "      <th>type</th>\n",
       "      <th>amount</th>\n",
       "      <th>nameOrig</th>\n",
       "      <th>oldbalanceOrg</th>\n",
       "      <th>nameDest</th>\n",
       "      <th>oldbalanceDest</th>\n",
       "      <th>isFraud</th>\n",
       "      <th>isFlaggedFraud</th>\n",
       "    </tr>\n",
       "  </thead>\n",
       "  <tbody>\n",
       "    <tr>\n",
       "      <th>1598813</th>\n",
       "      <td>5</td>\n",
       "      <td>4208.07</td>\n",
       "      <td>C</td>\n",
       "      <td>5199491.7</td>\n",
       "      <td>C</td>\n",
       "      <td>617112.63</td>\n",
       "      <td>0</td>\n",
       "      <td>0</td>\n",
       "    </tr>\n",
       "    <tr>\n",
       "      <th>4332965</th>\n",
       "      <td>3</td>\n",
       "      <td>326498.04</td>\n",
       "      <td>C</td>\n",
       "      <td>0.0</td>\n",
       "      <td>C</td>\n",
       "      <td>7507104.62</td>\n",
       "      <td>0</td>\n",
       "      <td>0</td>\n",
       "    </tr>\n",
       "    <tr>\n",
       "      <th>1604171</th>\n",
       "      <td>3</td>\n",
       "      <td>312851.01</td>\n",
       "      <td>C</td>\n",
       "      <td>0.0</td>\n",
       "      <td>C</td>\n",
       "      <td>958746.01</td>\n",
       "      <td>0</td>\n",
       "      <td>0</td>\n",
       "    </tr>\n",
       "    <tr>\n",
       "      <th>2353465</th>\n",
       "      <td>3</td>\n",
       "      <td>27734.96</td>\n",
       "      <td>C</td>\n",
       "      <td>20491.0</td>\n",
       "      <td>C</td>\n",
       "      <td>515190.67</td>\n",
       "      <td>0</td>\n",
       "      <td>0</td>\n",
       "    </tr>\n",
       "    <tr>\n",
       "      <th>5547756</th>\n",
       "      <td>1</td>\n",
       "      <td>14249.67</td>\n",
       "      <td>C</td>\n",
       "      <td>0.0</td>\n",
       "      <td>M</td>\n",
       "      <td>0.00</td>\n",
       "      <td>0</td>\n",
       "      <td>0</td>\n",
       "    </tr>\n",
       "  </tbody>\n",
       "</table>\n",
       "</div>"
      ],
      "text/plain": [
       "         type     amount nameOrig  oldbalanceOrg nameDest  oldbalanceDest  \\\n",
       "1598813     5    4208.07        C      5199491.7        C       617112.63   \n",
       "4332965     3  326498.04        C            0.0        C      7507104.62   \n",
       "1604171     3  312851.01        C            0.0        C       958746.01   \n",
       "2353465     3   27734.96        C        20491.0        C       515190.67   \n",
       "5547756     1   14249.67        C            0.0        M            0.00   \n",
       "\n",
       "         isFraud  isFlaggedFraud  \n",
       "1598813        0               0  \n",
       "4332965        0               0  \n",
       "1604171        0               0  \n",
       "2353465        0               0  \n",
       "5547756        0               0  "
      ]
     },
     "execution_count": 93,
     "metadata": {},
     "output_type": "execute_result"
    }
   ],
   "source": [
    "df2.sample(n=5)"
   ]
  },
  {
   "cell_type": "code",
   "execution_count": 94,
   "id": "8f1a26ed",
   "metadata": {},
   "outputs": [],
   "source": [
    "# on peut dire que le cas de 'nameOrig'= C et 'nameDest'=C  a la grande probabilité d'etre un fraude "
   ]
  },
  {
   "cell_type": "code",
   "execution_count": 95,
   "id": "0f424dab",
   "metadata": {},
   "outputs": [
    {
     "name": "stdout",
     "output_type": "stream",
     "text": [
      "Pour les transactions où 'nameOrig' est égal à 'C' et 'nameDest' est également égal à 'C': 8213\n"
     ]
    }
   ],
   "source": [
    "# on verifie :\n",
    "# Sélectionnons les transactions frauduleuses  où 'nameOrig'  et 'nameDest' sont  égal à 'C'\n",
    "subset = df2[(df2['nameOrig'] == 'C') & (df2['nameDest'] == 'C') & (df2['isFraud'] == 1)]\n",
    "\n",
    "print(f\"Pour les transactions où 'nameOrig' est égal à 'C' et 'nameDest' est également égal à 'C':\", subset.shape[0])\n"
   ]
  },
  {
   "cell_type": "code",
   "execution_count": 96,
   "id": "b10cb3c4",
   "metadata": {},
   "outputs": [
    {
     "name": "stdout",
     "output_type": "stream",
     "text": [
      "true\n"
     ]
    }
   ],
   "source": [
    "# on veut voir si toutes les transactions frauduleuses de dataframe sont dans 'nameOrig'== 'C' et 'nameDest'== 'C'\n",
    "if df2[df2['isFraud'] == 1].shape[0] == subset.shape[0] :\n",
    "    print('true')\n",
    "else :\n",
    "    print('false')\n"
   ]
  },
  {
   "cell_type": "code",
   "execution_count": 97,
   "id": "8087634d",
   "metadata": {},
   "outputs": [],
   "source": [
    "# qui est vrai"
   ]
  },
  {
   "cell_type": "code",
   "execution_count": 98,
   "id": "ea6b07e0",
   "metadata": {},
   "outputs": [
    {
     "name": "stdout",
     "output_type": "stream",
     "text": [
      "type de données de chaque colonnes\n",
      "\n",
      " type                int64\n",
      "amount            float64\n",
      "nameOrig           object\n",
      "oldbalanceOrg     float64\n",
      "nameDest           object\n",
      "oldbalanceDest    float64\n",
      "isFraud             int64\n",
      "isFlaggedFraud      int64\n",
      "dtype: object\n",
      "\n",
      "___________________________________\n",
      "\n"
     ]
    }
   ],
   "source": [
    "#affichons tout les types des colonnes \n",
    "pd.set_option('display.max_row' ,30)\n",
    "print('type de données de chaque colonnes\\n\\n', df2.dtypes)\n",
    "print('\\n___________________________________\\n')"
   ]
  },
  {
   "cell_type": "code",
   "execution_count": 99,
   "id": "51aceb4f",
   "metadata": {},
   "outputs": [],
   "source": [
    "#encodage de la colonne 'nameDest' et 'nameOrig' : \n",
    "df2['nameDest'] = df2['nameDest'].replace(['C', 'M'],[0, 1])\n",
    "df2['nameOrig'] = df2['nameOrig'].replace(['C', 'M'],[0, 1])"
   ]
  },
  {
   "cell_type": "code",
   "execution_count": 100,
   "id": "31561373",
   "metadata": {},
   "outputs": [
    {
     "name": "stdout",
     "output_type": "stream",
     "text": [
      "type de données de chaque colonnes\n",
      "\n",
      " type                int64\n",
      "amount            float64\n",
      "nameOrig            int64\n",
      "oldbalanceOrg     float64\n",
      "nameDest            int64\n",
      "oldbalanceDest    float64\n",
      "isFraud             int64\n",
      "isFlaggedFraud      int64\n",
      "dtype: object\n",
      "\n",
      "___________________________________\n",
      "\n"
     ]
    }
   ],
   "source": [
    "#affichons tout les types des colonnes \n",
    "pd.set_option('display.max_row' ,30)\n",
    "print('type de données de chaque colonnes\\n\\n', df2.dtypes)\n",
    "print('\\n___________________________________\\n')"
   ]
  },
  {
   "cell_type": "code",
   "execution_count": 101,
   "id": "eefe4d82",
   "metadata": {},
   "outputs": [
    {
     "data": {
      "text/html": [
       "<div>\n",
       "<style scoped>\n",
       "    .dataframe tbody tr th:only-of-type {\n",
       "        vertical-align: middle;\n",
       "    }\n",
       "\n",
       "    .dataframe tbody tr th {\n",
       "        vertical-align: top;\n",
       "    }\n",
       "\n",
       "    .dataframe thead th {\n",
       "        text-align: right;\n",
       "    }\n",
       "</style>\n",
       "<table border=\"1\" class=\"dataframe\">\n",
       "  <thead>\n",
       "    <tr style=\"text-align: right;\">\n",
       "      <th></th>\n",
       "      <th>type</th>\n",
       "      <th>amount</th>\n",
       "      <th>nameOrig</th>\n",
       "      <th>oldbalanceOrg</th>\n",
       "      <th>nameDest</th>\n",
       "      <th>oldbalanceDest</th>\n",
       "      <th>isFraud</th>\n",
       "      <th>isFlaggedFraud</th>\n",
       "    </tr>\n",
       "  </thead>\n",
       "  <tbody>\n",
       "    <tr>\n",
       "      <th>6362615</th>\n",
       "      <td>3</td>\n",
       "      <td>339682.13</td>\n",
       "      <td>0</td>\n",
       "      <td>339682.13</td>\n",
       "      <td>0</td>\n",
       "      <td>0.00</td>\n",
       "      <td>1</td>\n",
       "      <td>0</td>\n",
       "    </tr>\n",
       "    <tr>\n",
       "      <th>6362616</th>\n",
       "      <td>2</td>\n",
       "      <td>6311409.28</td>\n",
       "      <td>0</td>\n",
       "      <td>6311409.28</td>\n",
       "      <td>0</td>\n",
       "      <td>0.00</td>\n",
       "      <td>1</td>\n",
       "      <td>0</td>\n",
       "    </tr>\n",
       "    <tr>\n",
       "      <th>6362617</th>\n",
       "      <td>3</td>\n",
       "      <td>6311409.28</td>\n",
       "      <td>0</td>\n",
       "      <td>6311409.28</td>\n",
       "      <td>0</td>\n",
       "      <td>68488.84</td>\n",
       "      <td>1</td>\n",
       "      <td>0</td>\n",
       "    </tr>\n",
       "    <tr>\n",
       "      <th>6362618</th>\n",
       "      <td>2</td>\n",
       "      <td>850002.52</td>\n",
       "      <td>0</td>\n",
       "      <td>850002.52</td>\n",
       "      <td>0</td>\n",
       "      <td>0.00</td>\n",
       "      <td>1</td>\n",
       "      <td>0</td>\n",
       "    </tr>\n",
       "    <tr>\n",
       "      <th>6362619</th>\n",
       "      <td>3</td>\n",
       "      <td>850002.52</td>\n",
       "      <td>0</td>\n",
       "      <td>850002.52</td>\n",
       "      <td>0</td>\n",
       "      <td>6510099.11</td>\n",
       "      <td>1</td>\n",
       "      <td>0</td>\n",
       "    </tr>\n",
       "  </tbody>\n",
       "</table>\n",
       "</div>"
      ],
      "text/plain": [
       "         type      amount  nameOrig  oldbalanceOrg  nameDest  oldbalanceDest  \\\n",
       "6362615     3   339682.13         0      339682.13         0            0.00   \n",
       "6362616     2  6311409.28         0     6311409.28         0            0.00   \n",
       "6362617     3  6311409.28         0     6311409.28         0        68488.84   \n",
       "6362618     2   850002.52         0      850002.52         0            0.00   \n",
       "6362619     3   850002.52         0      850002.52         0      6510099.11   \n",
       "\n",
       "         isFraud  isFlaggedFraud  \n",
       "6362615        1               0  \n",
       "6362616        1               0  \n",
       "6362617        1               0  \n",
       "6362618        1               0  \n",
       "6362619        1               0  "
      ]
     },
     "execution_count": 101,
     "metadata": {},
     "output_type": "execute_result"
    }
   ],
   "source": [
    "df2.tail()"
   ]
  },
  {
   "cell_type": "code",
   "execution_count": 102,
   "id": "7698ba44",
   "metadata": {},
   "outputs": [],
   "source": [
    "# Enregistrement du DataFrame nettoyé au format CSV\n",
    "# df2.to_csv( 'cleaned_data.csv', index=False)\n"
   ]
  },
  {
   "cell_type": "markdown",
   "id": "07e55775",
   "metadata": {},
   "source": [
    "# Avant de commencer l'Apprentissage Automatique : "
   ]
  },
  {
   "cell_type": "markdown",
   "id": "b59b83dc",
   "metadata": {},
   "source": [
    "L'ensemble de données n'est pas équilibré ,Nous disposons de beaucoup plus d'informations sur les transactions normales\n",
    " par rapport aux transactions frauduleuses.\n",
    "et avec des algorithmes d'apprentissage  , ils pouvent conduire à une classification erronée de la classe minoritaire.\n",
    "Par conséquent,Pour compenser ce déséquilibre, nous utiliserons ici les techniques de suréchantillonnage et de sous-échantillonnage.elles réduiront soit le nombre d'observations de la classe majoritaire, soit augmenteront le nombre d'observations de la classe minoritaire.\n",
    "\n",
    "Comme le montre la figure ci-dessous : \n",
    "\n",
    "\n",
    "<img src='imgs/sursous.PNG' style ='width:800px;heigth:500px' >  \n",
    "\n",
    "\n",
    "[lien de l'image](https://www.institutdesactuaires.com/global/gene/link.php?doc_id=16271&fg=1)\n"
   ]
  },
  {
   "cell_type": "code",
   "execution_count": 103,
   "id": "b818fa6b",
   "metadata": {},
   "outputs": [],
   "source": [
    "#Équilibrer les classes par sous-échantillonnage\n",
    "#Séparer nos classes\n",
    "tr_fraudes  = df2[df2['isFraud'] == 1]\n",
    "tr_normales = df2[df2['isFraud'] == 0]\n",
    "\n",
    "# Réduire la classe majoritaire à la taille de la classe minoritaire\n",
    "taille_tr_fraude = len(df2[df2['isFraud'] == 1])\n",
    "tr_normales_sous = tr_normales.sample(taille_tr_fraude, random_state=1)\n",
    "\n",
    "# Fusionner à nouveau nos classes\n",
    "sous_echant = pd.concat([tr_fraudes, tr_normales_sous])\n",
    "sous_echant = sous_echant.reset_index(drop=True)"
   ]
  },
  {
   "cell_type": "code",
   "execution_count": 104,
   "id": "d0edc6b2",
   "metadata": {},
   "outputs": [
    {
     "data": {
      "image/png": "[encoded data removed]",
      "text/plain": [
       "<Figure size 640x480 with 1 Axes>"
      ]
     },
     "metadata": {},
     "output_type": "display_data"
    }
   ],
   "source": [
    "# Afficher la distribution équilibré de du nouvel ensemble de données en comembaire : \n",
    "\n",
    "plt.pie(sous_echant['isFraud'].value_counts(),\n",
    "labels=['Transactions Frauduleuses', 'Transactions Normales'],\n",
    "autopct='%1.0f%%')\n",
    "        \n",
    "plt.title('Distribution des Classes Équilibré aprés sous_echantillonage')\n",
    "plt.show()"
   ]
  },
  {
   "cell_type": "code",
   "execution_count": 105,
   "id": "a65ae218",
   "metadata": {},
   "outputs": [
    {
     "data": {
      "image/png": "[encoded data removed]",
      "text/plain": [
       "<Figure size 1500x500 with 2 Axes>"
      ]
     },
     "metadata": {},
     "output_type": "display_data"
    }
   ],
   "source": [
    "plt.figure(figsize=(15,5))\n",
    "sns.heatmap(sous_echant.corr(), cmap='Blues', annot=True)\n",
    "plt.title('le graphique de correlation')\n",
    "plt.show()\n"
   ]
  },
  {
   "cell_type": "code",
   "execution_count": null,
   "id": "20faf719",
   "metadata": {},
   "outputs": [],
   "source": []
  },
  {
   "cell_type": "code",
   "execution_count": null,
   "id": "d6fae66e",
   "metadata": {},
   "outputs": [],
   "source": []
  },
  {
   "cell_type": "code",
   "execution_count": null,
   "id": "0ee46fe1",
   "metadata": {},
   "outputs": [],
   "source": []
  },
  {
   "cell_type": "markdown",
   "id": "be4a1c8a",
   "metadata": {},
   "source": [
    "### La Normalisation : \n",
    "          mettre les variables quantitatives dans la meme echelle. \n",
    "        il existe beaucoups de techniques , les 3 les plus connues :- normalisation min_max. ( X-Xmin / Xmax-Xmin )\n",
    "                                                                    - standardisation standardscaler. ( X-Ux / Sx )\n",
    "                                                                    - transformer robuste scaler. ( X-mediane / EIQ )\n",
    "                                                                    \n",
    "\"PUISQUE On a des outliers , on va éviter d'utiliser min_max et standardScaler\"                  "
   ]
  },
  {
   "cell_type": "markdown",
   "id": "378df613",
   "metadata": {},
   "source": [
    "# Apprentissage supervisé :"
   ]
  },
  {
   "cell_type": "markdown",
   "id": "2196b6b1",
   "metadata": {},
   "source": [
    "La machine reçoit des données caractérisées par des variables x (features), et annotées d'une variable y (label,target)\n",
    "\n",
    "Le but de l'apprentissage supervisé :\n",
    "c'est que la machine doit étre capable de prédire la valeur y(objectif)en fonction des caractéristiques x qu'on lui donne.\n",
    "\n",
    "### En pratique : \n",
    "    - on commence par donner tout plein de données à la machine .(x,y)\n",
    "    -ensuite onspécifie le type de modéle que la machine doit apprendre (linéaire, polynomiale, arbre de décision, RN, etc).\n",
    "    -on spécifie les hyper-paramétres de notre modéle.\n",
    "    -la phase d'entrainnement : utilisons les algorithmes d'optimisation , \n",
    "         la machine trouve les paramétres qui donnent les meilleurs performances.\n",
    "    -à la fin de l'entrainnement , le modéle sera capable de prédire y  à partir des données x \n",
    "         (dans cette partie on lui donne uniquement x ) .\n",
    "    "
   ]
  },
  {
   "cell_type": "markdown",
   "id": "e963b2f3",
   "metadata": {},
   "source": [
    "### Séparer les features/target :"
   ]
  },
  {
   "cell_type": "code",
   "execution_count": null,
   "id": "c4d8f5ac",
   "metadata": {},
   "outputs": [],
   "source": [
    "# Tous d'abord , on commence par séparer les caracteristiques (x) et l'étiquette(y) "
   ]
  },
  {
   "cell_type": "code",
   "execution_count": null,
   "id": "5b682d72",
   "metadata": {},
   "outputs": [],
   "source": [
    "# features\n",
    "x = df2.drop(\"isFraud\",axis=1)\n",
    "\n",
    "# target\n",
    "y=df2[\"isFraud\"]"
   ]
  }
 ],
 "metadata": {
  "kernelspec": {
   "display_name": "Python 3 (ipykernel)",
   "language": "python",
   "name": "python3"
  },
  "language_info": {
   "codemirror_mode": {
    "name": "ipython",
    "version": 3
   },
   "file_extension": ".py",
   "mimetype": "text/x-python",
   "name": "python",
   "nbconvert_exporter": "python",
   "pygments_lexer": "ipython3",
   "version": "3.10.9"
  }
 },
 "nbformat": 4,
 "nbformat_minor": 5
}
